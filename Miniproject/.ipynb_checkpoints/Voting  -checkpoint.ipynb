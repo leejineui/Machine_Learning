{
 "cells": [
  {
   "cell_type": "markdown",
   "id": "61cca374",
   "metadata": {},
   "source": [
    "   ### < Assembling the best params from each model>\n",
    "***Common preprocessing for all models : Removed all NA by row, Scaled the features with StandardScaled method.***\n",
    " - RandomForest\n",
    "     - RandomizedSearchCV: best_params {'max_depth': 6, 'max_leaf_nodes': 27, 'n_estimators': 200} ,best_roc_auc_score : 0.858111432252248\n",
    "     - GridSearchCV : best_params :{'max_depth': 6, 'max_leaf_nodes': 29, 'n_estimators': 200}/ best_roc_auc_score:0.8583350299131316\n",
    " \n",
    " - Tree \n",
    "     - RandomizedSearchCV : best_params :{'max_leaf_nodes': 24, 'max_depth': 5}, best_roc_auc_score : 0.826611565425314\n",
    "     - GridSearchCV: best_params {'max_depth': 6, 'max_leaf_nodes': 29}/ best_roc_acu_score: 0.8418440863076111\n",
    "     \n",
    " - KNN \n",
    "     - RandomizedSearchCV : best_params :{'p': 2, 'n_neighbors': 26} / best_roc_auc_score :0.7621679858775501\n",
    "     - GridSearchCV : bests_params : {'n_neighbors': 33, 'p': 2} / best_roc_auc_score :0.768284925323895\n",
    "     \n",
    " - SVM \n",
    "     - RandomizedSearchCV : best \n",
    "     - GridSearchCV :    \n",
    " \n"
   ]
  },
  {
   "cell_type": "code",
   "execution_count": 145,
   "id": "f7dd13aa",
   "metadata": {},
   "outputs": [],
   "source": [
    "import pandas as pd \n",
    "import numpy as np\n",
    "data =pd.read_csv(\"preprocessing\\cs_data.csv\",\n",
    "                 header=0,\n",
    "                 index_col=0)"
   ]
  },
  {
   "cell_type": "code",
   "execution_count": 146,
   "id": "588e8092",
   "metadata": {},
   "outputs": [
    {
     "data": {
      "text/html": [
       "<div>\n",
       "<style scoped>\n",
       "    .dataframe tbody tr th:only-of-type {\n",
       "        vertical-align: middle;\n",
       "    }\n",
       "\n",
       "    .dataframe tbody tr th {\n",
       "        vertical-align: top;\n",
       "    }\n",
       "\n",
       "    .dataframe thead th {\n",
       "        text-align: right;\n",
       "    }\n",
       "</style>\n",
       "<table border=\"1\" class=\"dataframe\">\n",
       "  <thead>\n",
       "    <tr style=\"text-align: right;\">\n",
       "      <th></th>\n",
       "      <th>SeriousDlqin2yrs</th>\n",
       "      <th>RevolvingUtilizationOfUnsecuredLines</th>\n",
       "      <th>age</th>\n",
       "      <th>NumberOfTime30-59DaysPastDueNotWorse</th>\n",
       "      <th>DebtRatio</th>\n",
       "      <th>MonthlyIncome</th>\n",
       "      <th>NumberOfOpenCreditLinesAndLoans</th>\n",
       "      <th>NumberOfTimes90DaysLate</th>\n",
       "      <th>NumberRealEstateLoansOrLines</th>\n",
       "      <th>NumberOfTime60-89DaysPastDueNotWorse</th>\n",
       "      <th>NumberOfDependents</th>\n",
       "    </tr>\n",
       "  </thead>\n",
       "  <tbody>\n",
       "    <tr>\n",
       "      <th>1</th>\n",
       "      <td>1</td>\n",
       "      <td>0.766127</td>\n",
       "      <td>45</td>\n",
       "      <td>2</td>\n",
       "      <td>0.802982</td>\n",
       "      <td>9120.0</td>\n",
       "      <td>13</td>\n",
       "      <td>0</td>\n",
       "      <td>6</td>\n",
       "      <td>0</td>\n",
       "      <td>2.0</td>\n",
       "    </tr>\n",
       "    <tr>\n",
       "      <th>2</th>\n",
       "      <td>0</td>\n",
       "      <td>0.957151</td>\n",
       "      <td>40</td>\n",
       "      <td>0</td>\n",
       "      <td>0.121876</td>\n",
       "      <td>2600.0</td>\n",
       "      <td>4</td>\n",
       "      <td>0</td>\n",
       "      <td>0</td>\n",
       "      <td>0</td>\n",
       "      <td>1.0</td>\n",
       "    </tr>\n",
       "    <tr>\n",
       "      <th>3</th>\n",
       "      <td>0</td>\n",
       "      <td>0.658180</td>\n",
       "      <td>38</td>\n",
       "      <td>1</td>\n",
       "      <td>0.085113</td>\n",
       "      <td>3042.0</td>\n",
       "      <td>2</td>\n",
       "      <td>1</td>\n",
       "      <td>0</td>\n",
       "      <td>0</td>\n",
       "      <td>0.0</td>\n",
       "    </tr>\n",
       "    <tr>\n",
       "      <th>4</th>\n",
       "      <td>0</td>\n",
       "      <td>0.233810</td>\n",
       "      <td>30</td>\n",
       "      <td>0</td>\n",
       "      <td>0.036050</td>\n",
       "      <td>3300.0</td>\n",
       "      <td>5</td>\n",
       "      <td>0</td>\n",
       "      <td>0</td>\n",
       "      <td>0</td>\n",
       "      <td>0.0</td>\n",
       "    </tr>\n",
       "    <tr>\n",
       "      <th>5</th>\n",
       "      <td>0</td>\n",
       "      <td>0.907239</td>\n",
       "      <td>49</td>\n",
       "      <td>1</td>\n",
       "      <td>0.024926</td>\n",
       "      <td>63588.0</td>\n",
       "      <td>7</td>\n",
       "      <td>0</td>\n",
       "      <td>1</td>\n",
       "      <td>0</td>\n",
       "      <td>0.0</td>\n",
       "    </tr>\n",
       "  </tbody>\n",
       "</table>\n",
       "</div>"
      ],
      "text/plain": [
       "   SeriousDlqin2yrs  RevolvingUtilizationOfUnsecuredLines  age  \\\n",
       "1                 1                              0.766127   45   \n",
       "2                 0                              0.957151   40   \n",
       "3                 0                              0.658180   38   \n",
       "4                 0                              0.233810   30   \n",
       "5                 0                              0.907239   49   \n",
       "\n",
       "   NumberOfTime30-59DaysPastDueNotWorse  DebtRatio  MonthlyIncome  \\\n",
       "1                                     2   0.802982         9120.0   \n",
       "2                                     0   0.121876         2600.0   \n",
       "3                                     1   0.085113         3042.0   \n",
       "4                                     0   0.036050         3300.0   \n",
       "5                                     1   0.024926        63588.0   \n",
       "\n",
       "   NumberOfOpenCreditLinesAndLoans  NumberOfTimes90DaysLate  \\\n",
       "1                               13                        0   \n",
       "2                                4                        0   \n",
       "3                                2                        1   \n",
       "4                                5                        0   \n",
       "5                                7                        0   \n",
       "\n",
       "   NumberRealEstateLoansOrLines  NumberOfTime60-89DaysPastDueNotWorse  \\\n",
       "1                             6                                     0   \n",
       "2                             0                                     0   \n",
       "3                             0                                     0   \n",
       "4                             0                                     0   \n",
       "5                             1                                     0   \n",
       "\n",
       "   NumberOfDependents  \n",
       "1                 2.0  \n",
       "2                 1.0  \n",
       "3                 0.0  \n",
       "4                 0.0  \n",
       "5                 0.0  "
      ]
     },
     "execution_count": 146,
     "metadata": {},
     "output_type": "execute_result"
    }
   ],
   "source": [
    "# NA를 전부 없앤 값 = datap\n",
    "data.dropna(inplace=True)\n",
    "data.head()"
   ]
  },
  {
   "cell_type": "code",
   "execution_count": 147,
   "id": "45c6af5a",
   "metadata": {},
   "outputs": [
    {
     "data": {
      "text/plain": [
       "((120269, 11),)"
      ]
     },
     "execution_count": 147,
     "metadata": {},
     "output_type": "execute_result"
    }
   ],
   "source": [
    "data.shape ,# drop na\n",
    "#data.isnull().sum()\n"
   ]
  },
  {
   "cell_type": "code",
   "execution_count": 148,
   "id": "bc2a9c6b",
   "metadata": {},
   "outputs": [
    {
     "data": {
      "text/plain": [
       "((120269, 10), (120269,))"
      ]
     },
     "execution_count": 148,
     "metadata": {},
     "output_type": "execute_result"
    }
   ],
   "source": [
    "# data 로 dataset 구분 \n",
    "X= data.drop(columns='SeriousDlqin2yrs')\n",
    "y= data['SeriousDlqin2yrs']\n",
    "X.shape , y.shape"
   ]
  },
  {
   "cell_type": "code",
   "execution_count": 149,
   "id": "55f655f0",
   "metadata": {},
   "outputs": [],
   "source": [
    "# Train _Val _Test dataset 구분\n",
    "from sklearn.model_selection import train_test_split \n",
    "X_train, X_test, y_train, y_test = train_test_split (X, y, test_size =0.2, stratify=y ,random_state=0) \n",
    "X_train, X_val, y_train, y_val = train_test_split(X_train, y_train, test_size=0.2, stratify=y_train, random_state=0)"
   ]
  },
  {
   "cell_type": "code",
   "execution_count": 150,
   "id": "a0c0973c",
   "metadata": {},
   "outputs": [],
   "source": [
    "from sklearn.svm import SVC \n",
    "from sklearn.neighbors import KNeighborsClassifier\n",
    "from sklearn.ensemble import RandomForestClassifier, VotingClassifier\n",
    "from sklearn.metrics import roc_auc_score\n",
    "from sklearn.preprocessing import StandardScaler\n",
    "from sklearn.tree import DecisionTreeClassifier\n",
    "from sklearn.model_selection import GridSearchCV, RandomizedSearchCV\n",
    "from sklearn.pipeline import Pipeline, make_pipeline\n"
   ]
  },
  {
   "cell_type": "markdown",
   "id": "8144ec18",
   "metadata": {},
   "source": [
    "#### Model Test 1  RF \n",
    " **<Model 1-1>**\n",
    "   - RandomForest 'random_state :0', 'max_depth': 6, 'max_leaf_nodes': 27, 'n_estimators': 200   => RandomSearchCV parameters\n",
    "        - Train roc_auc_score :  0.8511837392936858\n",
    "        - Val roc_auc_score: 0.858111432252248\n",
    "        - Test roc_auc_score: 0.8509095491248287\n",
    "        \n",
    "        \n",
    " **<Model 1-2>** \n",
    "   - RandomForest 'random_state :0', 'max_depth': 6, 'max_leaf_nodes': 29, 'n_estimators': 200   => GridSearchCV parammeters\n",
    "        - Train roc_auc_score :  0.8515783542525345\n",
    "        - Val roc_auc_score: 0.8583350299131316\n",
    "        - Test roc_auc_score 0.8510738050777134\n",
    "        \n",
    "        \n",
    " **<Model 1-3>**\n",
    "   - RandomForest 'random_state :0', 'max_depth': 8, 'max_leaf_nodes': 34, 'n_estimators': 200   => GridSearchCV parammeters\n",
    "        - Train roc_auc_score :  0.8524995196762951\n",
    "        - Val roc_auc_score: 0.8590592056364155\n",
    "        - Test roc_auc_score 0.8510619206842801\n",
    "        \n"
   ]
  },
  {
   "cell_type": "code",
   "execution_count": 151,
   "id": "57bcdd19",
   "metadata": {},
   "outputs": [],
   "source": [
    "# Scaling for TEST MODEL 1 \n",
    "from sklearn.preprocessing import StandardScaler\n",
    "sc= StandardScaler()\n",
    "X_train_scaled=sc.fit_transform(X_train)\n",
    "X_val_scaled=sc.transform(X_val)\n",
    "X_test_scaled=sc.transform(X_test)"
   ]
  },
  {
   "cell_type": "code",
   "execution_count": 114,
   "id": "0b5c457e",
   "metadata": {},
   "outputs": [
    {
     "data": {
      "text/plain": [
       "RandomForestClassifier(max_depth=6, max_leaf_nodes=27, n_estimators=200,\n",
       "                       random_state=0)"
      ]
     },
     "execution_count": 114,
     "metadata": {},
     "output_type": "execute_result"
    }
   ],
   "source": [
    "# Model test 1-1 RandomForestCalssifier (random_state=0, max_leaf_nodes= 27, max_depth = 6, n_estimators = 200) from RandomSearchCV parameters\n",
    "# Training\n",
    "rf1=RandomForestClassifier(random_state=0, max_leaf_nodes= 27, max_depth = 6, n_estimators = 200) \n",
    "\n",
    "rf1.fit(X_train_scaled, y_train)"
   ]
  },
  {
   "cell_type": "code",
   "execution_count": 115,
   "id": "17db8231",
   "metadata": {},
   "outputs": [],
   "source": [
    "# predict proba => 양성이 나올 확률 추정\n",
    "prob_train = rf1.predict_proba(X_train_scaled)[:,1]\n",
    "prob_val =rf1.predict_proba(X_val_scaled)[:,1]\n",
    "prob_test =rf1.predict_proba(X_test_scaled)[:,1]"
   ]
  },
  {
   "cell_type": "code",
   "execution_count": 116,
   "id": "681d34af",
   "metadata": {},
   "outputs": [
    {
     "name": "stdout",
     "output_type": "stream",
     "text": [
      "Train roc_auc_score :  0.8511837392936858\n",
      "Val roc_auc_score: 0.858111432252248\n",
      "Test roc_auc_score: 0.8509095491248287\n"
     ]
    }
   ],
   "source": [
    "print(\"Train roc_auc_score : \", roc_auc_score(y_train, prob_train))\n",
    "print(\"Val roc_auc_score:\", roc_auc_score(y_val, prob_val))\n",
    "print(\"Test roc_auc_score:\", roc_auc_score(y_test, prob_test))"
   ]
  },
  {
   "cell_type": "markdown",
   "id": "81eeff35",
   "metadata": {},
   "source": [
    "--------------------------------------------------------------------------------------------------------------------------------------------------------------------------"
   ]
  },
  {
   "cell_type": "code",
   "execution_count": 124,
   "id": "40f8df9f",
   "metadata": {},
   "outputs": [
    {
     "data": {
      "text/plain": [
       "RandomForestClassifier(max_depth=6, max_leaf_nodes=29, n_estimators=200,\n",
       "                       random_state=0)"
      ]
     },
     "execution_count": 124,
     "metadata": {},
     "output_type": "execute_result"
    }
   ],
   "source": [
    "# Model test 1-2 RandomForestCalssifier (random_state=0, max_leaf_nodes= 29, max_depth = 6, n_estimators = 200) from GridSearchCV parameters\n",
    "# Training\n",
    "rf2=RandomForestClassifier(random_state=0, max_leaf_nodes= 29, max_depth = 6, n_estimators = 200) \n",
    "rf2.fit(X_train_scaled, y_train)"
   ]
  },
  {
   "cell_type": "code",
   "execution_count": 125,
   "id": "73a9dd6c",
   "metadata": {},
   "outputs": [],
   "source": [
    "# predict proba => 양성이 나올 확률 추정\n",
    "prob_train = rf2.predict_proba(X_train_scaled)[:,1]\n",
    "prob_val =rf2.predict_proba(X_val_scaled)[:,1]\n",
    "prob_test=rf2.predict_proba(X_test_scaled)[:,1]"
   ]
  },
  {
   "cell_type": "code",
   "execution_count": 126,
   "id": "322b949e",
   "metadata": {},
   "outputs": [
    {
     "name": "stdout",
     "output_type": "stream",
     "text": [
      "Train roc_auc_score :  0.8515783542525345\n",
      "Val roc_auc_score: 0.8583350299131316\n",
      "Test roc_auc_score 0.8510738050777134\n"
     ]
    }
   ],
   "source": [
    "print(\"Train roc_auc_score : \", roc_auc_score(y_train, prob_train))\n",
    "print(\"Val roc_auc_score:\", roc_auc_score(y_val, prob_val))\n",
    "print(\"Test roc_auc_score\", roc_auc_score(y_test, prob_test))"
   ]
  },
  {
   "cell_type": "markdown",
   "id": "871765cd",
   "metadata": {},
   "source": [
    "--------------------------------------------------------------------------------------------------------------------------------------------------------------------------"
   ]
  },
  {
   "cell_type": "code",
   "execution_count": 152,
   "id": "beadf02b",
   "metadata": {},
   "outputs": [
    {
     "data": {
      "text/plain": [
       "RandomForestClassifier(max_depth=8, max_leaf_nodes=34, n_estimators=200,\n",
       "                       random_state=0)"
      ]
     },
     "execution_count": 152,
     "metadata": {},
     "output_type": "execute_result"
    }
   ],
   "source": [
    "# Model test 1-3 RandomForestCalssifier (random_state=0, max_leaf_nodes= 34, max_depth = 8, n_estimators = 200) from GridSearchCV parameters\n",
    "# Training\n",
    "rf3=RandomForestClassifier(random_state=0, max_leaf_nodes= 34, max_depth = 8, n_estimators = 200) \n",
    "rf3.fit(X_train_scaled, y_train)"
   ]
  },
  {
   "cell_type": "code",
   "execution_count": 153,
   "id": "a4e1bde0",
   "metadata": {},
   "outputs": [],
   "source": [
    "# predict proba => 양성이 나올 확률 추정\n",
    "prob_train = rf3.predict_proba(X_train_scaled)[:,1]\n",
    "prob_val =rf3.predict_proba(X_val_scaled)[:,1]\n",
    "prob_test=rf3.predict_proba(X_test_scaled)[:,1]"
   ]
  },
  {
   "cell_type": "code",
   "execution_count": 154,
   "id": "21d2a958",
   "metadata": {},
   "outputs": [
    {
     "name": "stdout",
     "output_type": "stream",
     "text": [
      "Train roc_auc_score :  0.8524995196762951\n",
      "Val roc_auc_score: 0.8590592056364155\n",
      "Test roc_auc_score 0.8510619206842801\n"
     ]
    }
   ],
   "source": [
    "print(\"Train roc_auc_score : \", roc_auc_score(y_train, prob_train))\n",
    "print(\"Val roc_auc_score:\", roc_auc_score(y_val, prob_val))\n",
    "print(\"Test roc_auc_score\", roc_auc_score(y_test, prob_test))"
   ]
  },
  {
   "cell_type": "code",
   "execution_count": null,
   "id": "ce0c23a8",
   "metadata": {},
   "outputs": [],
   "source": []
  },
  {
   "cell_type": "code",
   "execution_count": null,
   "id": "9e4291ab",
   "metadata": {},
   "outputs": [],
   "source": []
  },
  {
   "cell_type": "code",
   "execution_count": null,
   "id": "bc5a232b",
   "metadata": {},
   "outputs": [],
   "source": []
  },
  {
   "cell_type": "code",
   "execution_count": null,
   "id": "f93dfd12",
   "metadata": {},
   "outputs": [],
   "source": []
  },
  {
   "cell_type": "code",
   "execution_count": null,
   "id": "ed66f7cf",
   "metadata": {},
   "outputs": [],
   "source": []
  },
  {
   "cell_type": "code",
   "execution_count": null,
   "id": "a4d2f6a2",
   "metadata": {},
   "outputs": [],
   "source": []
  },
  {
   "cell_type": "code",
   "execution_count": null,
   "id": "10306ecd",
   "metadata": {},
   "outputs": [],
   "source": []
  },
  {
   "cell_type": "markdown",
   "id": "50345b89",
   "metadata": {},
   "source": [
    "#### Model Test 2  Soft Voting  RF + TREE + KNN \n",
    "**<Model 2-1>**\n",
    "   - RandomForest 'random_state :0', 'max_depth': 6, 'max_leaf_nodes': 27, 'n_estimators': 200\n",
    "   - DecisionTree 'random_state :0', 'max_leaf_nodes': 24, 'max_depth': 5 \n",
    "   - KNeighbors   'random_state :0', 'p': 2, 'n_neighbors': 26\n",
    "   \n",
    "        - Train roc_auc_score :  0.8834597160162492\n",
    "        - Val roc_auc_score: 0.8545350392530227\n",
    "        - Test_roc_auc_score:0.8422099726076094\n",
    "   \n",
    "   \n",
    "**<Model 2-2>**\n",
    "   - RandomForest 'random_state :0', 'max_depth': 6, 'max_leaf_nodes': 29, 'n_estimators': 200\n",
    "   - DecisionTree 'random_state :0', 'max_leaf_nodes': 29, 'max_depth': 6 \n",
    "   - KNeighbors   'random_state :0', 'p': 2, 'n_neighbors': 33 \n",
    "   \n",
    "        - Train_roc_auc_score:0.8783129431427792\n",
    "        - Val_roc_auc_score:0.8566712887153314\n",
    "        - Test_roc_auc_score:0.8442168576417839\n"
   ]
  },
  {
   "cell_type": "code",
   "execution_count": 133,
   "id": "fe25cb13",
   "metadata": {},
   "outputs": [],
   "source": [
    "# Model test 2-1 - Soft Voting with RandomForest + DecisionTree+ KNeighbors \n",
    "# Soft Voting with RandomSearch CV result \n",
    "\n",
    "order_rf =[\n",
    "    ('scaler', StandardScaler()),\n",
    "    ('rf', RandomForestClassifier(random_state =0, max_depth= 6, max_leaf_nodes = 27, n_estimators =200))\n",
    "]\n",
    "\n",
    "order_tree =[\n",
    "    ('scaler', StandardScaler()),\n",
    "    ('tree',DecisionTreeClassifier(random_state =0, max_leaf_nodes = 24, max_depth = 5))\n",
    " \n",
    "]\n",
    "\n",
    "order_knn= [\n",
    "    ('scaler', StandardScaler()),\n",
    "    ('knn',KNeighborsClassifier(p = 2, n_neighbors = 26))\n",
    "]\n",
    "\n",
    "\n",
    "rf_pl=Pipeline(order_rf)\n",
    "tree_pl=Pipeline(order_tree)\n",
    "knn_pl=Pipeline(order_knn)\n",
    "\n",
    "\n",
    "est =[\n",
    "    ('rf', rf_pl),\n",
    "    ('tree', tree_pl),\n",
    "    ('knn', knn_pl)\n",
    "]\n",
    "\n",
    "voting = VotingClassifier(est, voting='soft')\n"
   ]
  },
  {
   "cell_type": "code",
   "execution_count": 134,
   "id": "a6c64f16",
   "metadata": {},
   "outputs": [
    {
     "data": {
      "text/plain": [
       "VotingClassifier(estimators=[('rf',\n",
       "                              Pipeline(steps=[('scaler', StandardScaler()),\n",
       "                                              ('rf',\n",
       "                                               RandomForestClassifier(max_depth=6,\n",
       "                                                                      max_leaf_nodes=27,\n",
       "                                                                      n_estimators=200,\n",
       "                                                                      random_state=0))])),\n",
       "                             ('tree',\n",
       "                              Pipeline(steps=[('scaler', StandardScaler()),\n",
       "                                              ('tree',\n",
       "                                               DecisionTreeClassifier(max_depth=5,\n",
       "                                                                      max_leaf_nodes=24,\n",
       "                                                                      random_state=0))])),\n",
       "                             ('knn',\n",
       "                              Pipeline(steps=[('scaler', StandardScaler()),\n",
       "                                              ('knn',\n",
       "                                               KNeighborsClassifier(n_neighbors=26))]))],\n",
       "                 voting='soft')"
      ]
     },
     "execution_count": 134,
     "metadata": {},
     "output_type": "execute_result"
    }
   ],
   "source": [
    "voting.fit (X_train, y_train)"
   ]
  },
  {
   "cell_type": "code",
   "execution_count": 135,
   "id": "a5c645a3",
   "metadata": {},
   "outputs": [
    {
     "name": "stdout",
     "output_type": "stream",
     "text": [
      "Train_roc_auc_score:0.8834597160162492\n",
      "Val_roc_auc_score:0.8545350392530227\n",
      "Test_roc_auc_score:0.8422099726076094\n"
     ]
    }
   ],
   "source": [
    "print (\"Train_roc_auc_score:{}\".format (roc_auc_score(y_train, voting.predict_proba(X_train)[:,1])))\n",
    "print (\"Val_roc_auc_score:{}\". format ( roc_auc_score(y_val, voting.predict_proba(X_val)[:,1])))\n",
    "print (\"Test_roc_auc_score:{}\". format(roc_auc_score(y_test, voting.predict_proba(X_test)[:,1])))"
   ]
  },
  {
   "cell_type": "markdown",
   "id": "22f98a61",
   "metadata": {},
   "source": [
    "-------------------------------------------------------------------------------------------------------------------------------------------------------------------------"
   ]
  },
  {
   "cell_type": "code",
   "execution_count": 142,
   "id": "a317e055",
   "metadata": {},
   "outputs": [],
   "source": [
    "# Model test 2-2 - Soft Voting with RandomForest + DecisionTree+ KNeighbors \n",
    "# Soft Voting with GridSearch CV result \n",
    "\n",
    "order_rf =[\n",
    "    ('scaler', StandardScaler()),\n",
    "    ('rf', RandomForestClassifier(random_state =0, max_depth= 6, max_leaf_nodes = 29, n_estimators =200))\n",
    "]\n",
    "\n",
    "order_tree =[\n",
    "    ('scaler', StandardScaler()),\n",
    "    ('tree',DecisionTreeClassifier(random_state =0, max_leaf_nodes = 29, max_depth = 6))\n",
    " \n",
    "]\n",
    "\n",
    "order_knn= [\n",
    "    ('scaler', StandardScaler()),\n",
    "    ('knn',KNeighborsClassifier(p = 2, n_neighbors = 33))\n",
    "]\n",
    "\n",
    "\n",
    "rf_pl=Pipeline(order_rf)\n",
    "tree_pl=Pipeline(order_tree)\n",
    "knn_pl=Pipeline(order_knn)\n",
    "\n",
    "\n",
    "est =[\n",
    "    ('rf', rf_pl),\n",
    "    ('tree', tree_pl),\n",
    "    ('knn', knn_pl)\n",
    "]\n",
    "\n",
    "voting = VotingClassifier(est, voting='soft')\n"
   ]
  },
  {
   "cell_type": "code",
   "execution_count": 143,
   "id": "053713db",
   "metadata": {},
   "outputs": [
    {
     "data": {
      "text/plain": [
       "VotingClassifier(estimators=[('rf',\n",
       "                              Pipeline(steps=[('scaler', StandardScaler()),\n",
       "                                              ('rf',\n",
       "                                               RandomForestClassifier(max_depth=6,\n",
       "                                                                      max_leaf_nodes=29,\n",
       "                                                                      n_estimators=200,\n",
       "                                                                      random_state=0))])),\n",
       "                             ('tree',\n",
       "                              Pipeline(steps=[('scaler', StandardScaler()),\n",
       "                                              ('tree',\n",
       "                                               DecisionTreeClassifier(max_depth=6,\n",
       "                                                                      max_leaf_nodes=29,\n",
       "                                                                      random_state=0))])),\n",
       "                             ('knn',\n",
       "                              Pipeline(steps=[('scaler', StandardScaler()),\n",
       "                                              ('knn',\n",
       "                                               KNeighborsClassifier(n_neighbors=33))]))],\n",
       "                 voting='soft')"
      ]
     },
     "execution_count": 143,
     "metadata": {},
     "output_type": "execute_result"
    }
   ],
   "source": [
    "voting.fit (X_train, y_train)"
   ]
  },
  {
   "cell_type": "code",
   "execution_count": 144,
   "id": "0c15b589",
   "metadata": {},
   "outputs": [
    {
     "name": "stdout",
     "output_type": "stream",
     "text": [
      "Train_roc_auc_score:0.8783129431427792\n",
      "Val_roc_auc_score:0.8566712887153314\n",
      "Test_roc_auc_score:0.8442168576417839\n"
     ]
    }
   ],
   "source": [
    "print (\"Train_roc_auc_score:{}\".format (roc_auc_score(y_train, voting.predict_proba(X_train)[:,1])))\n",
    "print (\"Val_roc_auc_score:{}\". format ( roc_auc_score(y_val, voting.predict_proba(X_val)[:,1])))\n",
    "print (\"Test_roc_auc_score:{}\". format(roc_auc_score(y_test, voting.predict_proba(X_test)[:,1])))"
   ]
  },
  {
   "cell_type": "markdown",
   "id": "0338fa9a",
   "metadata": {},
   "source": [
    "## RESULT \n",
    " **<Model 1-1>**\n",
    "   - RandomForest 'random_state :0', 'max_depth': 6, 'max_leaf_nodes': 27, 'n_estimators': 200   => RandomSearchCV parameters\n",
    "        - Train roc_auc_score :  0.8511837392936858\n",
    "        - Val roc_auc_score: 0.858111432252248\n",
    "        - Test roc_auc_score: 0.8509095491248287\n",
    "        \n",
    "        \n",
    "**<Model 1-2>** <p>\n",
    "   **RandomForest 'random_state :0', 'max_depth': 6, 'max_leaf_nodes': 29, 'n_estimators': 200   => GridSearchCV parammeters <br>\n",
    "          - Train roc_auc_score :  0.8515783542525345 <br>\n",
    "          - Val roc_auc_score: 0.8583350299131316 <br>\n",
    "          - Test roc_auc_score: 0.8510738050777134**\n",
    "\n",
    "\n",
    "***=>BEST RESULT 'Model 1-2'*** \n",
    "<p>\n",
    "        \n",
    "    \n",
    "**<Model 1-3>  => Complicated**\n",
    "   - RandomForest 'random_state :0', 'max_depth': 8, 'max_leaf_nodes': 34, 'n_estimators': 200   => GridSearchCV parammeters\n",
    "        - Train roc_auc_score :  0.8524995196762951\n",
    "        - Val roc_auc_score: 0.8590592056364155\n",
    "        - Test roc_auc_score 0.8510619206842801\n",
    "    \n",
    "    \n",
    "    \n",
    "    \n",
    "    \n",
    "    \n",
    "\n",
    "**<Model 2-1>  => Overfitting**\n",
    "   - RandomForest 'random_state :0', 'max_depth': 6, 'max_leaf_nodes': 27, 'n_estimators': 200\n",
    "   - DecisionTree 'random_state :0', 'max_leaf_nodes': 24, 'max_depth': 5 \n",
    "   - KNeighbors   'random_state :0', 'p': 2, 'n_neighbors': 26\n",
    "   \n",
    "        - Train roc_auc_score :  0.8834597160162492\n",
    "        - Val roc_auc_score: 0.8545350392530227\n",
    "        - Test_roc_auc_score:0.8422099726076094\n",
    "         \n",
    "   \n",
    "**<Model 2-2>  => Overfitting**\n",
    "   - RandomForest 'random_state :0', 'max_depth': 6, 'max_leaf_nodes': 29, 'n_estimators': 200\n",
    "   - DecisionTree 'random_state :0', 'max_leaf_nodes': 29, 'max_depth': 6 \n",
    "   - KNeighbors   'random_state :0', 'p': 2, 'n_neighbors': 33 \n",
    "   \n",
    "        - Train_roc_auc_score:0.8783129431427792\n",
    "        - Val_roc_auc_score:0.8566712887153314\n",
    "        - Test_roc_auc_score:0.8442168576417839\n",
    "            \n",
    "\n"
   ]
  },
  {
   "cell_type": "code",
   "execution_count": null,
   "id": "b55d460a",
   "metadata": {},
   "outputs": [],
   "source": []
  },
  {
   "cell_type": "code",
   "execution_count": null,
   "id": "5d563307",
   "metadata": {},
   "outputs": [],
   "source": []
  },
  {
   "cell_type": "code",
   "execution_count": null,
   "id": "034be190",
   "metadata": {},
   "outputs": [],
   "source": []
  },
  {
   "cell_type": "code",
   "execution_count": null,
   "id": "ad090c15",
   "metadata": {},
   "outputs": [],
   "source": []
  },
  {
   "cell_type": "code",
   "execution_count": null,
   "id": "eb44bc2a",
   "metadata": {},
   "outputs": [],
   "source": []
  },
  {
   "cell_type": "code",
   "execution_count": null,
   "id": "c5b94589",
   "metadata": {},
   "outputs": [],
   "source": []
  },
  {
   "cell_type": "code",
   "execution_count": 29,
   "id": "a1258013",
   "metadata": {},
   "outputs": [],
   "source": [
    "# # Hard Voting with RandomSearch CV result \n",
    "\n",
    "# order_rf =[\n",
    "#     ('scaler', StandardScaler()),\n",
    "#     ('rf', RandomForestClassifier(random_state =0, max_depth= 6, max_leaf_nodes = 27, n_estimators =200))\n",
    "# ]\n",
    "\n",
    "# order_tree =[\n",
    "#     ('scaler', StandardScaler()),\n",
    "#     ('tree',DecisionTreeClassifier(random_state =0, max_leaf_nodes = 24, max_depth = 5))\n",
    " \n",
    "# ]\n",
    "\n",
    "# order_knn= [\n",
    "#     ('scaler', StandardScaler()),\n",
    "#     ('knn',KNeighborsClassifier(p = 2, n_neighbors = 26))\n",
    "# ]\n",
    "\n",
    "\n",
    "# rf_pl=Pipeline(order_rf)\n",
    "# tree_pl=Pipeline(order_tree)\n",
    "# knn_pl=Pipeline(order_knn)\n",
    "\n",
    "\n",
    "# est =[\n",
    "#     ('rf', rf_pl),\n",
    "#     ('tree', tree_pl),\n",
    "#     ('knn', knn_pl)\n",
    "# ]\n",
    "\n",
    "# voting = VotingClassifier(est)"
   ]
  },
  {
   "cell_type": "code",
   "execution_count": 30,
   "id": "5ceb0c1e",
   "metadata": {},
   "outputs": [
    {
     "data": {
      "text/plain": [
       "VotingClassifier(estimators=[('rf',\n",
       "                              Pipeline(steps=[('scaler', StandardScaler()),\n",
       "                                              ('rf',\n",
       "                                               RandomForestClassifier(max_depth=6,\n",
       "                                                                      max_leaf_nodes=27,\n",
       "                                                                      n_estimators=200,\n",
       "                                                                      random_state=0))])),\n",
       "                             ('tree',\n",
       "                              Pipeline(steps=[('scaler', StandardScaler()),\n",
       "                                              ('tree',\n",
       "                                               DecisionTreeClassifier(max_depth=5,\n",
       "                                                                      max_leaf_nodes=24,\n",
       "                                                                      random_state=0))])),\n",
       "                             ('knn',\n",
       "                              Pipeline(steps=[('scaler', StandardScaler()),\n",
       "                                              ('knn',\n",
       "                                               KNeighborsClassifier(n_neighbors=26))]))])"
      ]
     },
     "execution_count": 30,
     "metadata": {},
     "output_type": "execute_result"
    }
   ],
   "source": [
    "# voting.fit(X_train, y_train)"
   ]
  },
  {
   "cell_type": "code",
   "execution_count": 31,
   "id": "2e257bf4",
   "metadata": {},
   "outputs": [
    {
     "ename": "AttributeError",
     "evalue": "predict_proba is not available when voting='hard'",
     "output_type": "error",
     "traceback": [
      "\u001b[1;31m---------------------------------------------------------------------------\u001b[0m",
      "\u001b[1;31mAttributeError\u001b[0m                            Traceback (most recent call last)",
      "\u001b[1;32m~\\AppData\\Local\\Temp/ipykernel_14096/416864806.py\u001b[0m in \u001b[0;36m<module>\u001b[1;34m\u001b[0m\n\u001b[1;32m----> 1\u001b[1;33m \u001b[0mroc_auc_score\u001b[0m\u001b[1;33m(\u001b[0m\u001b[0my_val\u001b[0m\u001b[1;33m,\u001b[0m \u001b[0mvoting\u001b[0m\u001b[1;33m.\u001b[0m\u001b[0mpredict_proba\u001b[0m\u001b[1;33m(\u001b[0m\u001b[0mX_val\u001b[0m\u001b[1;33m)\u001b[0m\u001b[1;33m[\u001b[0m\u001b[1;33m:\u001b[0m\u001b[1;33m,\u001b[0m\u001b[1;36m1\u001b[0m\u001b[1;33m]\u001b[0m\u001b[1;33m)\u001b[0m\u001b[1;33m\u001b[0m\u001b[1;33m\u001b[0m\u001b[0m\n\u001b[0m",
      "\u001b[1;32m~\\anaconda3\\envs\\ml2\\lib\\site-packages\\sklearn\\ensemble\\_voting.py\u001b[0m in \u001b[0;36mpredict_proba\u001b[1;34m(self)\u001b[0m\n\u001b[0;32m    346\u001b[0m         \"\"\"\n\u001b[0;32m    347\u001b[0m         \u001b[1;32mif\u001b[0m \u001b[0mself\u001b[0m\u001b[1;33m.\u001b[0m\u001b[0mvoting\u001b[0m \u001b[1;33m==\u001b[0m \u001b[1;34m'hard'\u001b[0m\u001b[1;33m:\u001b[0m\u001b[1;33m\u001b[0m\u001b[1;33m\u001b[0m\u001b[0m\n\u001b[1;32m--> 348\u001b[1;33m             raise AttributeError(\"predict_proba is not available when\"\n\u001b[0m\u001b[0;32m    349\u001b[0m                                  \" voting=%r\" % self.voting)\n\u001b[0;32m    350\u001b[0m         \u001b[1;32mreturn\u001b[0m \u001b[0mself\u001b[0m\u001b[1;33m.\u001b[0m\u001b[0m_predict_proba\u001b[0m\u001b[1;33m\u001b[0m\u001b[1;33m\u001b[0m\u001b[0m\n",
      "\u001b[1;31mAttributeError\u001b[0m: predict_proba is not available when voting='hard'"
     ]
    }
   ],
   "source": [
    "# roc_auc_score(y_val, voting.predict_proba(X_val)[:,1])"
   ]
  },
  {
   "cell_type": "code",
   "execution_count": null,
   "id": "5bf7c46f",
   "metadata": {},
   "outputs": [],
   "source": []
  }
 ],
 "metadata": {
  "kernelspec": {
   "display_name": "Python 3 (ipykernel)",
   "language": "python",
   "name": "python3"
  },
  "language_info": {
   "codemirror_mode": {
    "name": "ipython",
    "version": 3
   },
   "file_extension": ".py",
   "mimetype": "text/x-python",
   "name": "python",
   "nbconvert_exporter": "python",
   "pygments_lexer": "ipython3",
   "version": "3.8.10"
  },
  "toc": {
   "base_numbering": 1,
   "nav_menu": {},
   "number_sections": true,
   "sideBar": true,
   "skip_h1_title": false,
   "title_cell": "Table of Contents",
   "title_sidebar": "Contents",
   "toc_cell": false,
   "toc_position": {},
   "toc_section_display": true,
   "toc_window_display": false
  }
 },
 "nbformat": 4,
 "nbformat_minor": 5
}
