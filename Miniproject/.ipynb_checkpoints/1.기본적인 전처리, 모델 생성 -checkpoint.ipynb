{
 "cells": [
  {
   "cell_type": "code",
   "execution_count": 1,
   "id": "2900ad75",
   "metadata": {},
   "outputs": [
    {
     "ename": "FileNotFoundError",
     "evalue": "[Errno 2] No such file or directory: 'cs_data.csv'",
     "output_type": "error",
     "traceback": [
      "\u001b[1;31m---------------------------------------------------------------------------\u001b[0m",
      "\u001b[1;31mFileNotFoundError\u001b[0m                         Traceback (most recent call last)",
      "\u001b[1;32m~\\AppData\\Local\\Temp/ipykernel_4340/436268113.py\u001b[0m in \u001b[0;36m<module>\u001b[1;34m\u001b[0m\n\u001b[0;32m      1\u001b[0m \u001b[1;32mimport\u001b[0m \u001b[0mpandas\u001b[0m \u001b[1;32mas\u001b[0m \u001b[0mpd\u001b[0m\u001b[1;33m\u001b[0m\u001b[1;33m\u001b[0m\u001b[0m\n\u001b[0;32m      2\u001b[0m \u001b[1;32mimport\u001b[0m \u001b[0mnumpy\u001b[0m \u001b[1;32mas\u001b[0m \u001b[0mnp\u001b[0m\u001b[1;33m\u001b[0m\u001b[1;33m\u001b[0m\u001b[0m\n\u001b[1;32m----> 3\u001b[1;33m data =pd.read_csv(\"cs_data.csv\",\n\u001b[0m\u001b[0;32m      4\u001b[0m                  \u001b[0mheader\u001b[0m\u001b[1;33m=\u001b[0m\u001b[1;36m0\u001b[0m\u001b[1;33m,\u001b[0m\u001b[1;33m\u001b[0m\u001b[1;33m\u001b[0m\u001b[0m\n\u001b[0;32m      5\u001b[0m                  index_col=0)\n",
      "\u001b[1;32m~\\anaconda3\\envs\\ml2\\lib\\site-packages\\pandas\\util\\_decorators.py\u001b[0m in \u001b[0;36mwrapper\u001b[1;34m(*args, **kwargs)\u001b[0m\n\u001b[0;32m    309\u001b[0m                     \u001b[0mstacklevel\u001b[0m\u001b[1;33m=\u001b[0m\u001b[0mstacklevel\u001b[0m\u001b[1;33m,\u001b[0m\u001b[1;33m\u001b[0m\u001b[1;33m\u001b[0m\u001b[0m\n\u001b[0;32m    310\u001b[0m                 )\n\u001b[1;32m--> 311\u001b[1;33m             \u001b[1;32mreturn\u001b[0m \u001b[0mfunc\u001b[0m\u001b[1;33m(\u001b[0m\u001b[1;33m*\u001b[0m\u001b[0margs\u001b[0m\u001b[1;33m,\u001b[0m \u001b[1;33m**\u001b[0m\u001b[0mkwargs\u001b[0m\u001b[1;33m)\u001b[0m\u001b[1;33m\u001b[0m\u001b[1;33m\u001b[0m\u001b[0m\n\u001b[0m\u001b[0;32m    312\u001b[0m \u001b[1;33m\u001b[0m\u001b[0m\n\u001b[0;32m    313\u001b[0m         \u001b[1;32mreturn\u001b[0m \u001b[0mwrapper\u001b[0m\u001b[1;33m\u001b[0m\u001b[1;33m\u001b[0m\u001b[0m\n",
      "\u001b[1;32m~\\anaconda3\\envs\\ml2\\lib\\site-packages\\pandas\\io\\parsers\\readers.py\u001b[0m in \u001b[0;36mread_csv\u001b[1;34m(filepath_or_buffer, sep, delimiter, header, names, index_col, usecols, squeeze, prefix, mangle_dupe_cols, dtype, engine, converters, true_values, false_values, skipinitialspace, skiprows, skipfooter, nrows, na_values, keep_default_na, na_filter, verbose, skip_blank_lines, parse_dates, infer_datetime_format, keep_date_col, date_parser, dayfirst, cache_dates, iterator, chunksize, compression, thousands, decimal, lineterminator, quotechar, quoting, doublequote, escapechar, comment, encoding, encoding_errors, dialect, error_bad_lines, warn_bad_lines, on_bad_lines, delim_whitespace, low_memory, memory_map, float_precision, storage_options)\u001b[0m\n\u001b[0;32m    584\u001b[0m     \u001b[0mkwds\u001b[0m\u001b[1;33m.\u001b[0m\u001b[0mupdate\u001b[0m\u001b[1;33m(\u001b[0m\u001b[0mkwds_defaults\u001b[0m\u001b[1;33m)\u001b[0m\u001b[1;33m\u001b[0m\u001b[1;33m\u001b[0m\u001b[0m\n\u001b[0;32m    585\u001b[0m \u001b[1;33m\u001b[0m\u001b[0m\n\u001b[1;32m--> 586\u001b[1;33m     \u001b[1;32mreturn\u001b[0m \u001b[0m_read\u001b[0m\u001b[1;33m(\u001b[0m\u001b[0mfilepath_or_buffer\u001b[0m\u001b[1;33m,\u001b[0m \u001b[0mkwds\u001b[0m\u001b[1;33m)\u001b[0m\u001b[1;33m\u001b[0m\u001b[1;33m\u001b[0m\u001b[0m\n\u001b[0m\u001b[0;32m    587\u001b[0m \u001b[1;33m\u001b[0m\u001b[0m\n\u001b[0;32m    588\u001b[0m \u001b[1;33m\u001b[0m\u001b[0m\n",
      "\u001b[1;32m~\\anaconda3\\envs\\ml2\\lib\\site-packages\\pandas\\io\\parsers\\readers.py\u001b[0m in \u001b[0;36m_read\u001b[1;34m(filepath_or_buffer, kwds)\u001b[0m\n\u001b[0;32m    480\u001b[0m \u001b[1;33m\u001b[0m\u001b[0m\n\u001b[0;32m    481\u001b[0m     \u001b[1;31m# Create the parser.\u001b[0m\u001b[1;33m\u001b[0m\u001b[1;33m\u001b[0m\u001b[1;33m\u001b[0m\u001b[0m\n\u001b[1;32m--> 482\u001b[1;33m     \u001b[0mparser\u001b[0m \u001b[1;33m=\u001b[0m \u001b[0mTextFileReader\u001b[0m\u001b[1;33m(\u001b[0m\u001b[0mfilepath_or_buffer\u001b[0m\u001b[1;33m,\u001b[0m \u001b[1;33m**\u001b[0m\u001b[0mkwds\u001b[0m\u001b[1;33m)\u001b[0m\u001b[1;33m\u001b[0m\u001b[1;33m\u001b[0m\u001b[0m\n\u001b[0m\u001b[0;32m    483\u001b[0m \u001b[1;33m\u001b[0m\u001b[0m\n\u001b[0;32m    484\u001b[0m     \u001b[1;32mif\u001b[0m \u001b[0mchunksize\u001b[0m \u001b[1;32mor\u001b[0m \u001b[0miterator\u001b[0m\u001b[1;33m:\u001b[0m\u001b[1;33m\u001b[0m\u001b[1;33m\u001b[0m\u001b[0m\n",
      "\u001b[1;32m~\\anaconda3\\envs\\ml2\\lib\\site-packages\\pandas\\io\\parsers\\readers.py\u001b[0m in \u001b[0;36m__init__\u001b[1;34m(self, f, engine, **kwds)\u001b[0m\n\u001b[0;32m    809\u001b[0m             \u001b[0mself\u001b[0m\u001b[1;33m.\u001b[0m\u001b[0moptions\u001b[0m\u001b[1;33m[\u001b[0m\u001b[1;34m\"has_index_names\"\u001b[0m\u001b[1;33m]\u001b[0m \u001b[1;33m=\u001b[0m \u001b[0mkwds\u001b[0m\u001b[1;33m[\u001b[0m\u001b[1;34m\"has_index_names\"\u001b[0m\u001b[1;33m]\u001b[0m\u001b[1;33m\u001b[0m\u001b[1;33m\u001b[0m\u001b[0m\n\u001b[0;32m    810\u001b[0m \u001b[1;33m\u001b[0m\u001b[0m\n\u001b[1;32m--> 811\u001b[1;33m         \u001b[0mself\u001b[0m\u001b[1;33m.\u001b[0m\u001b[0m_engine\u001b[0m \u001b[1;33m=\u001b[0m \u001b[0mself\u001b[0m\u001b[1;33m.\u001b[0m\u001b[0m_make_engine\u001b[0m\u001b[1;33m(\u001b[0m\u001b[0mself\u001b[0m\u001b[1;33m.\u001b[0m\u001b[0mengine\u001b[0m\u001b[1;33m)\u001b[0m\u001b[1;33m\u001b[0m\u001b[1;33m\u001b[0m\u001b[0m\n\u001b[0m\u001b[0;32m    812\u001b[0m \u001b[1;33m\u001b[0m\u001b[0m\n\u001b[0;32m    813\u001b[0m     \u001b[1;32mdef\u001b[0m \u001b[0mclose\u001b[0m\u001b[1;33m(\u001b[0m\u001b[0mself\u001b[0m\u001b[1;33m)\u001b[0m\u001b[1;33m:\u001b[0m\u001b[1;33m\u001b[0m\u001b[1;33m\u001b[0m\u001b[0m\n",
      "\u001b[1;32m~\\anaconda3\\envs\\ml2\\lib\\site-packages\\pandas\\io\\parsers\\readers.py\u001b[0m in \u001b[0;36m_make_engine\u001b[1;34m(self, engine)\u001b[0m\n\u001b[0;32m   1038\u001b[0m             )\n\u001b[0;32m   1039\u001b[0m         \u001b[1;31m# error: Too many arguments for \"ParserBase\"\u001b[0m\u001b[1;33m\u001b[0m\u001b[1;33m\u001b[0m\u001b[1;33m\u001b[0m\u001b[0m\n\u001b[1;32m-> 1040\u001b[1;33m         \u001b[1;32mreturn\u001b[0m \u001b[0mmapping\u001b[0m\u001b[1;33m[\u001b[0m\u001b[0mengine\u001b[0m\u001b[1;33m]\u001b[0m\u001b[1;33m(\u001b[0m\u001b[0mself\u001b[0m\u001b[1;33m.\u001b[0m\u001b[0mf\u001b[0m\u001b[1;33m,\u001b[0m \u001b[1;33m**\u001b[0m\u001b[0mself\u001b[0m\u001b[1;33m.\u001b[0m\u001b[0moptions\u001b[0m\u001b[1;33m)\u001b[0m  \u001b[1;31m# type: ignore[call-arg]\u001b[0m\u001b[1;33m\u001b[0m\u001b[1;33m\u001b[0m\u001b[0m\n\u001b[0m\u001b[0;32m   1041\u001b[0m \u001b[1;33m\u001b[0m\u001b[0m\n\u001b[0;32m   1042\u001b[0m     \u001b[1;32mdef\u001b[0m \u001b[0m_failover_to_python\u001b[0m\u001b[1;33m(\u001b[0m\u001b[0mself\u001b[0m\u001b[1;33m)\u001b[0m\u001b[1;33m:\u001b[0m\u001b[1;33m\u001b[0m\u001b[1;33m\u001b[0m\u001b[0m\n",
      "\u001b[1;32m~\\anaconda3\\envs\\ml2\\lib\\site-packages\\pandas\\io\\parsers\\c_parser_wrapper.py\u001b[0m in \u001b[0;36m__init__\u001b[1;34m(self, src, **kwds)\u001b[0m\n\u001b[0;32m     49\u001b[0m \u001b[1;33m\u001b[0m\u001b[0m\n\u001b[0;32m     50\u001b[0m         \u001b[1;31m# open handles\u001b[0m\u001b[1;33m\u001b[0m\u001b[1;33m\u001b[0m\u001b[1;33m\u001b[0m\u001b[0m\n\u001b[1;32m---> 51\u001b[1;33m         \u001b[0mself\u001b[0m\u001b[1;33m.\u001b[0m\u001b[0m_open_handles\u001b[0m\u001b[1;33m(\u001b[0m\u001b[0msrc\u001b[0m\u001b[1;33m,\u001b[0m \u001b[0mkwds\u001b[0m\u001b[1;33m)\u001b[0m\u001b[1;33m\u001b[0m\u001b[1;33m\u001b[0m\u001b[0m\n\u001b[0m\u001b[0;32m     52\u001b[0m         \u001b[1;32massert\u001b[0m \u001b[0mself\u001b[0m\u001b[1;33m.\u001b[0m\u001b[0mhandles\u001b[0m \u001b[1;32mis\u001b[0m \u001b[1;32mnot\u001b[0m \u001b[1;32mNone\u001b[0m\u001b[1;33m\u001b[0m\u001b[1;33m\u001b[0m\u001b[0m\n\u001b[0;32m     53\u001b[0m \u001b[1;33m\u001b[0m\u001b[0m\n",
      "\u001b[1;32m~\\anaconda3\\envs\\ml2\\lib\\site-packages\\pandas\\io\\parsers\\base_parser.py\u001b[0m in \u001b[0;36m_open_handles\u001b[1;34m(self, src, kwds)\u001b[0m\n\u001b[0;32m    220\u001b[0m         \u001b[0mLet\u001b[0m \u001b[0mthe\u001b[0m \u001b[0mreaders\u001b[0m \u001b[0mopen\u001b[0m \u001b[0mIOHandles\u001b[0m \u001b[0mafter\u001b[0m \u001b[0mthey\u001b[0m \u001b[0mare\u001b[0m \u001b[0mdone\u001b[0m \u001b[1;32mwith\u001b[0m \u001b[0mtheir\u001b[0m \u001b[0mpotential\u001b[0m \u001b[0mraises\u001b[0m\u001b[1;33m.\u001b[0m\u001b[1;33m\u001b[0m\u001b[1;33m\u001b[0m\u001b[0m\n\u001b[0;32m    221\u001b[0m         \"\"\"\n\u001b[1;32m--> 222\u001b[1;33m         self.handles = get_handle(\n\u001b[0m\u001b[0;32m    223\u001b[0m             \u001b[0msrc\u001b[0m\u001b[1;33m,\u001b[0m\u001b[1;33m\u001b[0m\u001b[1;33m\u001b[0m\u001b[0m\n\u001b[0;32m    224\u001b[0m             \u001b[1;34m\"r\"\u001b[0m\u001b[1;33m,\u001b[0m\u001b[1;33m\u001b[0m\u001b[1;33m\u001b[0m\u001b[0m\n",
      "\u001b[1;32m~\\anaconda3\\envs\\ml2\\lib\\site-packages\\pandas\\io\\common.py\u001b[0m in \u001b[0;36mget_handle\u001b[1;34m(path_or_buf, mode, encoding, compression, memory_map, is_text, errors, storage_options)\u001b[0m\n\u001b[0;32m    699\u001b[0m         \u001b[1;32mif\u001b[0m \u001b[0mioargs\u001b[0m\u001b[1;33m.\u001b[0m\u001b[0mencoding\u001b[0m \u001b[1;32mand\u001b[0m \u001b[1;34m\"b\"\u001b[0m \u001b[1;32mnot\u001b[0m \u001b[1;32min\u001b[0m \u001b[0mioargs\u001b[0m\u001b[1;33m.\u001b[0m\u001b[0mmode\u001b[0m\u001b[1;33m:\u001b[0m\u001b[1;33m\u001b[0m\u001b[1;33m\u001b[0m\u001b[0m\n\u001b[0;32m    700\u001b[0m             \u001b[1;31m# Encoding\u001b[0m\u001b[1;33m\u001b[0m\u001b[1;33m\u001b[0m\u001b[1;33m\u001b[0m\u001b[0m\n\u001b[1;32m--> 701\u001b[1;33m             handle = open(\n\u001b[0m\u001b[0;32m    702\u001b[0m                 \u001b[0mhandle\u001b[0m\u001b[1;33m,\u001b[0m\u001b[1;33m\u001b[0m\u001b[1;33m\u001b[0m\u001b[0m\n\u001b[0;32m    703\u001b[0m                 \u001b[0mioargs\u001b[0m\u001b[1;33m.\u001b[0m\u001b[0mmode\u001b[0m\u001b[1;33m,\u001b[0m\u001b[1;33m\u001b[0m\u001b[1;33m\u001b[0m\u001b[0m\n",
      "\u001b[1;31mFileNotFoundError\u001b[0m: [Errno 2] No such file or directory: 'cs_data.csv'"
     ]
    }
   ],
   "source": [
    "import pandas as pd \n",
    "import numpy as np\n",
    "data =pd.read_csv(\"preprocessing\\cs_data.csv\",\n",
    "                 header=0,\n",
    "                 index_col=0)"
   ]
  },
  {
   "cell_type": "code",
   "execution_count": null,
   "id": "c5983942",
   "metadata": {},
   "outputs": [],
   "source": [
    "data.head()\n",
    "#SeriousDlqin2yrs / RevolvingUtilizationOfUnsecuredLines /age /NumberOfTime30-59DaysPastDueNotWorse/\n",
    "#DebtRatio/MonthlyIncome/NumberOfOpenCreditLinesAndLoans/NumberOfTimes90DaysLate/NumberRealEstateLoansOrLines/\n",
    "#NumberOfTime60-89DaysPastDueNotWorse/NumberOfDependents"
   ]
  },
  {
   "cell_type": "code",
   "execution_count": null,
   "id": "795d11da",
   "metadata": {},
   "outputs": [],
   "source": [
    "print(data.count())\n",
    "print(data.isnull().sum())"
   ]
  },
  {
   "cell_type": "code",
   "execution_count": null,
   "id": "6513f1cc",
   "metadata": {},
   "outputs": [],
   "source": [
    "data.head()\n",
    "data.shape"
   ]
  },
  {
   "cell_type": "code",
   "execution_count": null,
   "id": "6acf5ef1",
   "metadata": {},
   "outputs": [],
   "source": [
    "# NA를 전부 없앤 값 = datap\n",
    "data.dropna(inplace=True)\n",
    "data.head()"
   ]
  },
  {
   "cell_type": "code",
   "execution_count": null,
   "id": "b64f8d31",
   "metadata": {},
   "outputs": [],
   "source": [
    "# drop na\n",
    "data.isnull().sum()\n",
    "data.shape"
   ]
  },
  {
   "cell_type": "code",
   "execution_count": null,
   "id": "81c8a22b",
   "metadata": {},
   "outputs": [],
   "source": [
    "# drop the columns 'NumberOfTime30-59DaysPastDueNotWorse','NumberOfTimes90DaysLate'\n",
    "data1 = data.drop(columns=['NumberOfTime30-59DaysPastDueNotWorse','NumberOfTimes90DaysLate'])\n",
    "data1.head()\n",
    "data1.to_csv('preprocessing\\cs_data1.csv')\n"
   ]
  },
  {
   "cell_type": "code",
   "execution_count": null,
   "id": "14e2a477",
   "metadata": {},
   "outputs": [],
   "source": [
    "# drop the columns 'NumberOfTime30-59DaysPastDueNotWorse','NumberOfTimes90DaysLate,NumberOfOpenCreditLinesAndLoans'\n",
    "data2 = data.drop(columns=['NumberOfTime30-59DaysPastDueNotWorse','NumberOfTimes90DaysLate','NumberOfOpenCreditLinesAndLoans'])\n",
    "data2.head()\n",
    "data2.to_csv('preprocessing\\cs_data2.csv')"
   ]
  },
  {
   "cell_type": "code",
   "execution_count": null,
   "id": "9535f7c8",
   "metadata": {},
   "outputs": [],
   "source": [
    "# drop the columns 'NumberOfTime30-59DaysPastDueNotWorse','NumberOfTimes90DaysLate,NumberRealEstateLoansOrLines'\n",
    "data3 = data.drop(columns=['NumberOfTime30-59DaysPastDueNotWorse','NumberOfTimes90DaysLate','NumberRealEstateLoansOrLines'])\n",
    "data3.head() \n",
    "data3.to_csv('preprocessing\\cs_data3.csv')"
   ]
  },
  {
   "cell_type": "code",
   "execution_count": null,
   "id": "14b1e9a0",
   "metadata": {},
   "outputs": [],
   "source": [
    "data"
   ]
  },
  {
   "cell_type": "code",
   "execution_count": null,
   "id": "ef4de8c4",
   "metadata": {},
   "outputs": [],
   "source": [
    "data.shape, data1.shape, data2.shape, data3.shape  \n",
    "# NA remove,  past 90days/30~59 in 2 years =>remove , past 90days/30~59 in 2 years/credit loan= remove ,   past 90days/30~59 in 2 years,esitamte =remove"
   ]
  },
  {
   "cell_type": "code",
   "execution_count": null,
   "id": "91eae243",
   "metadata": {},
   "outputs": [],
   "source": [
    "######################### data 로 dataset 구분 \n",
    "X= data.drop(columns='SeriousDlqin2yrs')/\n",
    "y= data['SeriousDlqin2yrs']\n",
    "X.shape , y.shape"
   ]
  },
  {
   "cell_type": "code",
   "execution_count": null,
   "id": "df5e9ee0",
   "metadata": {},
   "outputs": [],
   "source": [
    "# 1.dataset 구분\n",
    "from sklearn.model_selection import train_test_split \n",
    "X_train, X_test, y_train, y_test = train_test_split (X, y, test_size =0.2, stratify=y ,random_state=0) \n",
    "X_train, X_val, y_train, y_val = train_test_split(X_train, y_train, test_size=0.2, stratify=y_train, random_state=0)"
   ]
  },
  {
   "cell_type": "code",
   "execution_count": null,
   "id": "f2277dd9",
   "metadata": {},
   "outputs": [],
   "source": [
    "# 2. scaling\n",
    "from sklearn.preprocessing import StandardScaler, MinMaxScaler\n",
    "sc= StandardScaler()\n",
    "X_train_scaled1=sc.fit_transform(X_train)\n",
    "X_val_scaled1=sc.transform(X_val)\n",
    "X_test_scaled1=sc.transform(X_test)\n",
    "\n",
    "\n",
    "mn = MinMaxScaler()\n",
    "X_train_scaled2 =mn.fit_transform(X_train)\n",
    "X_val_scaled2 =mn.transform(X_val)\n",
    "X_test_scaled2=mn.transform(X_test)"
   ]
  },
  {
   "cell_type": "code",
   "execution_count": null,
   "id": "b35e6ea2",
   "metadata": {},
   "outputs": [],
   "source": [
    "print(X_train_scaled1, \"###\", X_train_scaled2 )\n",
    "print(np.max(X_train_scaled2 ,axis =0))\n",
    "print(np.min(X_train_scaled2, axis =0))"
   ]
  },
  {
   "cell_type": "code",
   "execution_count": null,
   "id": "14f31861",
   "metadata": {},
   "outputs": [],
   "source": [
    "# training \n",
    "from sklearn.neighbors import KNeighborsClassifier\n",
    "from sklearn.tree import DecisionTreeClassifier\n",
    "from sklearn.ensemble import RandomForestClassifier\n",
    "from sklearn.svm import SVC\n",
    "from sklearn.metrics import roc_curve, plot_roc_curve, roc_auc_score\n",
    "\n",
    "knn =KNeighborsClassifier()\n",
    "tree=DecisionTreeClassifier(random_state=0)\n",
    "rf=RandomForestClassifier(random_state=0)\n",
    "svc= SVC(random_state=0, probability =True)"
   ]
  },
  {
   "cell_type": "code",
   "execution_count": null,
   "id": "f208c1f4",
   "metadata": {},
   "outputs": [],
   "source": [
    "knn.fit(X_train_scaled1,y_train)\n",
    "tree.fit(X_train_scaled1,y_train)\n",
    "rf.fit(X_train_scaled1,y_train)\n",
    "svc.fit(X_train_scaled1,y_train)"
   ]
  },
  {
   "cell_type": "code",
   "execution_count": null,
   "id": "053fad01",
   "metadata": {},
   "outputs": [],
   "source": [
    "#train_scaled1 proba로 했을 경우 \n",
    "prob_knn_val=knn.predict_proba(X_train_scaled1)[:,1]\n",
    "prob_tree_val= tree.predict_proba(X_train_scaled1)[:,1]\n",
    "prob_rf_val=rf.predict_proba(X_train_scaled1)[:,1]\n",
    "prob_svc_val=svc.predict_proba(X_train_scaled1)[:,1]"
   ]
  },
  {
   "cell_type": "code",
   "execution_count": null,
   "id": "77e2aad1",
   "metadata": {},
   "outputs": [],
   "source": [
    "roc_auc_score(y_val, prob_knn_val), roc_auc_score(y_val,prob_tree_val), roc_auc_score(y_val,prob_rf_val), roc_auc_score(y_val, prob_svc_val)"
   ]
  },
  {
   "cell_type": "code",
   "execution_count": 53,
   "id": "0eea73c4",
   "metadata": {},
   "outputs": [],
   "source": [
    "# val_scaled1 proba\n",
    "prob_knn_val=knn.predict_proba(X_val_scaled1)[:,1]\n",
    "prob_tree_val= tree.predict_proba(X_val_scaled1)[:,1]\n",
    "prob_rf_val=rf.predict_proba(X_val_scaled1)[:,1]\n",
    "prob_svc_val=svc.predict_proba(X_val_scaled1)[:,1]"
   ]
  },
  {
   "cell_type": "code",
   "execution_count": 54,
   "id": "1ef6469b",
   "metadata": {},
   "outputs": [
    {
     "data": {
      "text/plain": [
       "((19243,), (19243,))"
      ]
     },
     "execution_count": 54,
     "metadata": {},
     "output_type": "execute_result"
    }
   ],
   "source": [
    "y_val.shape , prob_knn_val.shape"
   ]
  },
  {
   "cell_type": "code",
   "execution_count": 55,
   "id": "7449cdf3",
   "metadata": {},
   "outputs": [
    {
     "data": {
      "text/plain": [
       "(0.6999108449752681,\n",
       " 0.5981121724260852,\n",
       " 0.8389143220379409,\n",
       " 0.6346719146049915)"
      ]
     },
     "execution_count": 55,
     "metadata": {},
     "output_type": "execute_result"
    }
   ],
   "source": [
    "roc_auc_score(y_val, prob_knn_val), roc_auc_score(y_val,prob_tree_val), roc_auc_score(y_val,prob_rf_val), roc_auc_score(y_val, prob_svc_val)"
   ]
  },
  {
   "cell_type": "code",
   "execution_count": 56,
   "id": "70a90faf",
   "metadata": {},
   "outputs": [
    {
     "data": {
      "text/plain": [
       "SVC(probability=True, random_state=0)"
      ]
     },
     "execution_count": 56,
     "metadata": {},
     "output_type": "execute_result"
    }
   ],
   "source": [
    "# val_scaled2 proba\n",
    "knn.fit(X_train_scaled2,y_train)\n",
    "tree.fit(X_train_scaled2,y_train)\n",
    "rf.fit(X_train_scaled2,y_train)\n",
    "svc.fit(X_train_scaled2,y_train)"
   ]
  },
  {
   "cell_type": "code",
   "execution_count": 57,
   "id": "dc335a18",
   "metadata": {},
   "outputs": [],
   "source": [
    "prob_knn_val2=knn.predict_proba(X_val_scaled2)[:,1]\n",
    "prob_tree_val2= tree.predict_proba(X_val_scaled2)[:,1]\n",
    "prob_rf_val2=rf.predict_proba(X_val_scaled2)[:,1]\n",
    "prob_svc_val2=svc.predict_proba(X_val_scaled2)[:,1]"
   ]
  },
  {
   "cell_type": "code",
   "execution_count": 58,
   "id": "6106dc13",
   "metadata": {},
   "outputs": [
    {
     "data": {
      "text/plain": [
       "(0.6643361563808541,\n",
       " 0.6108506393523028,\n",
       " 0.8393583845697647,\n",
       " 0.6095620184223086)"
      ]
     },
     "execution_count": 58,
     "metadata": {},
     "output_type": "execute_result"
    }
   ],
   "source": [
    "roc_auc_score(y_val, prob_knn_val2), roc_auc_score(y_val,prob_tree_val2), roc_auc_score(y_val,prob_rf_val2), roc_auc_score(y_val, prob_svc_val2)"
   ]
  },
  {
   "cell_type": "code",
   "execution_count": null,
   "id": "e2eefda1",
   "metadata": {},
   "outputs": [],
   "source": [
    "# 기본으로 했을 때 standard scaling이 더 잘나옴, 잘나오는 모델 순 rf- knn - svc - tree"
   ]
  },
  {
   "cell_type": "code",
   "execution_count": null,
   "id": "a5052feb",
   "metadata": {},
   "outputs": [],
   "source": []
  }
 ],
 "metadata": {
  "kernelspec": {
   "display_name": "Python 3 (ipykernel)",
   "language": "python",
   "name": "python3"
  },
  "language_info": {
   "codemirror_mode": {
    "name": "ipython",
    "version": 3
   },
   "file_extension": ".py",
   "mimetype": "text/x-python",
   "name": "python",
   "nbconvert_exporter": "python",
   "pygments_lexer": "ipython3",
   "version": "3.8.10"
  },
  "toc": {
   "base_numbering": 1,
   "nav_menu": {},
   "number_sections": true,
   "sideBar": true,
   "skip_h1_title": false,
   "title_cell": "Table of Contents",
   "title_sidebar": "Contents",
   "toc_cell": false,
   "toc_position": {},
   "toc_section_display": true,
   "toc_window_display": false
  }
 },
 "nbformat": 4,
 "nbformat_minor": 5
}
