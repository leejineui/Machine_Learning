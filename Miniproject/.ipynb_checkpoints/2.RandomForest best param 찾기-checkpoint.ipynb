{
 "cells": [
  {
   "cell_type": "code",
   "execution_count": 1,
   "id": "f77cc1e8",
   "metadata": {},
   "outputs": [],
   "source": [
    "import pandas as pd \n",
    "import numpy as np\n",
    "data =pd.read_csv(\"preprocessing\\cs_data.csv\",\n",
    "                 header=0,\n",
    "                 index_col=0)"
   ]
  },
  {
   "cell_type": "code",
   "execution_count": 2,
   "id": "a7ed99ef",
   "metadata": {},
   "outputs": [
    {
     "data": {
      "text/html": [
       "<div>\n",
       "<style scoped>\n",
       "    .dataframe tbody tr th:only-of-type {\n",
       "        vertical-align: middle;\n",
       "    }\n",
       "\n",
       "    .dataframe tbody tr th {\n",
       "        vertical-align: top;\n",
       "    }\n",
       "\n",
       "    .dataframe thead th {\n",
       "        text-align: right;\n",
       "    }\n",
       "</style>\n",
       "<table border=\"1\" class=\"dataframe\">\n",
       "  <thead>\n",
       "    <tr style=\"text-align: right;\">\n",
       "      <th></th>\n",
       "      <th>SeriousDlqin2yrs</th>\n",
       "      <th>RevolvingUtilizationOfUnsecuredLines</th>\n",
       "      <th>age</th>\n",
       "      <th>NumberOfTime30-59DaysPastDueNotWorse</th>\n",
       "      <th>DebtRatio</th>\n",
       "      <th>MonthlyIncome</th>\n",
       "      <th>NumberOfOpenCreditLinesAndLoans</th>\n",
       "      <th>NumberOfTimes90DaysLate</th>\n",
       "      <th>NumberRealEstateLoansOrLines</th>\n",
       "      <th>NumberOfTime60-89DaysPastDueNotWorse</th>\n",
       "      <th>NumberOfDependents</th>\n",
       "    </tr>\n",
       "  </thead>\n",
       "  <tbody>\n",
       "    <tr>\n",
       "      <th>1</th>\n",
       "      <td>1</td>\n",
       "      <td>0.766127</td>\n",
       "      <td>45</td>\n",
       "      <td>2</td>\n",
       "      <td>0.802982</td>\n",
       "      <td>9120.0</td>\n",
       "      <td>13</td>\n",
       "      <td>0</td>\n",
       "      <td>6</td>\n",
       "      <td>0</td>\n",
       "      <td>2.0</td>\n",
       "    </tr>\n",
       "    <tr>\n",
       "      <th>2</th>\n",
       "      <td>0</td>\n",
       "      <td>0.957151</td>\n",
       "      <td>40</td>\n",
       "      <td>0</td>\n",
       "      <td>0.121876</td>\n",
       "      <td>2600.0</td>\n",
       "      <td>4</td>\n",
       "      <td>0</td>\n",
       "      <td>0</td>\n",
       "      <td>0</td>\n",
       "      <td>1.0</td>\n",
       "    </tr>\n",
       "    <tr>\n",
       "      <th>3</th>\n",
       "      <td>0</td>\n",
       "      <td>0.658180</td>\n",
       "      <td>38</td>\n",
       "      <td>1</td>\n",
       "      <td>0.085113</td>\n",
       "      <td>3042.0</td>\n",
       "      <td>2</td>\n",
       "      <td>1</td>\n",
       "      <td>0</td>\n",
       "      <td>0</td>\n",
       "      <td>0.0</td>\n",
       "    </tr>\n",
       "    <tr>\n",
       "      <th>4</th>\n",
       "      <td>0</td>\n",
       "      <td>0.233810</td>\n",
       "      <td>30</td>\n",
       "      <td>0</td>\n",
       "      <td>0.036050</td>\n",
       "      <td>3300.0</td>\n",
       "      <td>5</td>\n",
       "      <td>0</td>\n",
       "      <td>0</td>\n",
       "      <td>0</td>\n",
       "      <td>0.0</td>\n",
       "    </tr>\n",
       "    <tr>\n",
       "      <th>5</th>\n",
       "      <td>0</td>\n",
       "      <td>0.907239</td>\n",
       "      <td>49</td>\n",
       "      <td>1</td>\n",
       "      <td>0.024926</td>\n",
       "      <td>63588.0</td>\n",
       "      <td>7</td>\n",
       "      <td>0</td>\n",
       "      <td>1</td>\n",
       "      <td>0</td>\n",
       "      <td>0.0</td>\n",
       "    </tr>\n",
       "  </tbody>\n",
       "</table>\n",
       "</div>"
      ],
      "text/plain": [
       "   SeriousDlqin2yrs  RevolvingUtilizationOfUnsecuredLines  age  \\\n",
       "1                 1                              0.766127   45   \n",
       "2                 0                              0.957151   40   \n",
       "3                 0                              0.658180   38   \n",
       "4                 0                              0.233810   30   \n",
       "5                 0                              0.907239   49   \n",
       "\n",
       "   NumberOfTime30-59DaysPastDueNotWorse  DebtRatio  MonthlyIncome  \\\n",
       "1                                     2   0.802982         9120.0   \n",
       "2                                     0   0.121876         2600.0   \n",
       "3                                     1   0.085113         3042.0   \n",
       "4                                     0   0.036050         3300.0   \n",
       "5                                     1   0.024926        63588.0   \n",
       "\n",
       "   NumberOfOpenCreditLinesAndLoans  NumberOfTimes90DaysLate  \\\n",
       "1                               13                        0   \n",
       "2                                4                        0   \n",
       "3                                2                        1   \n",
       "4                                5                        0   \n",
       "5                                7                        0   \n",
       "\n",
       "   NumberRealEstateLoansOrLines  NumberOfTime60-89DaysPastDueNotWorse  \\\n",
       "1                             6                                     0   \n",
       "2                             0                                     0   \n",
       "3                             0                                     0   \n",
       "4                             0                                     0   \n",
       "5                             1                                     0   \n",
       "\n",
       "   NumberOfDependents  \n",
       "1                 2.0  \n",
       "2                 1.0  \n",
       "3                 0.0  \n",
       "4                 0.0  \n",
       "5                 0.0  "
      ]
     },
     "execution_count": 2,
     "metadata": {},
     "output_type": "execute_result"
    }
   ],
   "source": [
    "# NA를 전부 없앤 값 = datap\n",
    "data.dropna(inplace=True)\n",
    "data.head()"
   ]
  },
  {
   "cell_type": "code",
   "execution_count": 3,
   "id": "a7d73a4f",
   "metadata": {},
   "outputs": [
    {
     "data": {
      "text/plain": [
       "((120269, 10), (120269,))"
      ]
     },
     "execution_count": 3,
     "metadata": {},
     "output_type": "execute_result"
    }
   ],
   "source": [
    "#Data 로 X,y 구분 \n",
    "X= data.drop(columns='SeriousDlqin2yrs')\n",
    "y= data['SeriousDlqin2yrs']\n",
    "X.shape , y.shape"
   ]
  },
  {
   "cell_type": "code",
   "execution_count": 4,
   "id": "6d0076e8",
   "metadata": {},
   "outputs": [],
   "source": [
    "# 1.Dataset 구분 TRAIN, VAL, TEST\n",
    "from sklearn.model_selection import train_test_split \n",
    "X_train, X_test, y_train, y_test = train_test_split (X, y, test_size =0.2, stratify=y ,random_state=0) \n",
    "X_train, X_val, y_train, y_val = train_test_split(X_train, y_train, test_size=0.2, stratify=y_train, random_state=0)"
   ]
  },
  {
   "cell_type": "code",
   "execution_count": 7,
   "id": "eb881fed",
   "metadata": {},
   "outputs": [],
   "source": [
    "# 2.Scaling\n",
    "from sklearn.preprocessing import StandardScaler, MinMaxScaler\n",
    "sc= StandardScaler()\n",
    "X_train_scaled1=sc.fit_transform(X_train)\n",
    "X_val_scaled1=sc.transform(X_val)\n",
    "X_test_scaled1=sc.transform(X_test)"
   ]
  },
  {
   "cell_type": "code",
   "execution_count": null,
   "id": "7292099e",
   "metadata": {},
   "outputs": [],
   "source": [
    "######## Random Forest best model 찾기 ############ "
   ]
  },
  {
   "cell_type": "code",
   "execution_count": 65,
   "id": "05da4a64",
   "metadata": {},
   "outputs": [],
   "source": [
    "#RandomizedSearchCV \n",
    "from sklearn.model_selection import RandomizedSearchCV, train_test_split\n",
    "rf= RandomForestClassifier(random_state=0)\n",
    "param ={\n",
    "    \"max_depth\":range(3,11), # 1~10\n",
    "    \"max_leaf_nodes\":range(3,31,5), #[3,6,9,.......,27,30]\n",
    "    \"criterion\":[\"gini\",\"entropy\"]\n",
    "}\n",
    "\n",
    "rs= RandomizedSearchCV(rf, # 모델\n",
    "                      param, # 파라미터 후보\n",
    "                      n_iter=10,  # 총 조합 중에 10개를 random하게 선택하서 테스트\n",
    "                      cv =5,\n",
    "                      scoring='roc_auc',# cross validation 의 fold 수\n",
    "                      n_jobs =-1\n",
    "                      )"
   ]
  },
  {
   "cell_type": "code",
   "execution_count": 66,
   "id": "bf2b223b",
   "metadata": {},
   "outputs": [
    {
     "data": {
      "text/plain": [
       "RandomizedSearchCV(cv=5, estimator=RandomForestClassifier(random_state=0),\n",
       "                   n_jobs=-1,\n",
       "                   param_distributions={'criterion': ['gini', 'entropy'],\n",
       "                                        'max_depth': range(3, 11),\n",
       "                                        'max_leaf_nodes': range(3, 31, 5)},\n",
       "                   scoring='roc_auc')"
      ]
     },
     "execution_count": 66,
     "metadata": {},
     "output_type": "execute_result"
    }
   ],
   "source": [
    "rs.fit(X_train_scaled1, y_train)"
   ]
  },
  {
   "cell_type": "code",
   "execution_count": 67,
   "id": "77f1f96d",
   "metadata": {},
   "outputs": [
    {
     "data": {
      "text/plain": [
       "(0.8478683553615106,\n",
       " {'max_leaf_nodes': 23, 'max_depth': 7, 'criterion': 'entropy'})"
      ]
     },
     "execution_count": 67,
     "metadata": {},
     "output_type": "execute_result"
    }
   ],
   "source": [
    "rs.best_score_ , rs.best_params_"
   ]
  },
  {
   "cell_type": "code",
   "execution_count": 68,
   "id": "096b1f0b",
   "metadata": {},
   "outputs": [
    {
     "data": {
      "text/plain": [
       "RandomForestClassifier(criterion='entropy', max_depth=7, max_leaf_nodes=23,\n",
       "                       random_state=0)"
      ]
     },
     "execution_count": 68,
     "metadata": {},
     "output_type": "execute_result"
    }
   ],
   "source": [
    "best_model =rs.best_estimator_\n",
    "best_model"
   ]
  },
  {
   "cell_type": "code",
   "execution_count": 69,
   "id": "43d0d964",
   "metadata": {},
   "outputs": [
    {
     "data": {
      "text/plain": [
       "0.8605244741486768"
      ]
     },
     "execution_count": 69,
     "metadata": {},
     "output_type": "execute_result"
    }
   ],
   "source": [
    "#RandomizedSearchCV 로 찾은 best roc_auc rf \n",
    "from sklearn.metrics import roc_curve, plot_roc_curve, roc_auc_score\n",
    "roc_auc_score(y_val, best_model.predict_proba(X_val_scaled1)[:,1])"
   ]
  },
  {
   "cell_type": "code",
   "execution_count": null,
   "id": "d6b94310",
   "metadata": {},
   "outputs": [],
   "source": [
    "#RandomizedSearchCV score : 0.8478683553615106/ params :{'max_leaf_nodes': 23, 'max_depth': 7, 'criterion': 'entropy'} / roc_auc_score_val : 0.8605244741486768"
   ]
  },
  {
   "cell_type": "code",
   "execution_count": 13,
   "id": "c63db055",
   "metadata": {},
   "outputs": [],
   "source": [
    "#GridSearchCV\n",
    "from sklearn.model_selection  import GridSearchCV\n",
    "from sklearn.ensemble import RandomForestClassifier\n",
    "param ={\n",
    "        'n_estimators': [100,200], #200 이 베스트\n",
    "        'max_depth': range(7,15), # 7이 베스트 RandomizedSearchCV\n",
    "        'max_leaf_nodes':range(20,35), # 23이 베스트 RandomizedSearchCV\n",
    "        'criterion':[\"gini\",\"entropy\"]\n",
    "}\n",
    "\n",
    "rf= RandomForestClassifier(random_state=0)\n",
    "gs = GridSearchCV(rf, param, scoring ='roc_auc', cv=5, n_jobs=-1)"
   ]
  },
  {
   "cell_type": "code",
   "execution_count": 14,
   "id": "a7ac6132",
   "metadata": {},
   "outputs": [
    {
     "data": {
      "text/plain": [
       "GridSearchCV(cv=5, estimator=RandomForestClassifier(random_state=0), n_jobs=-1,\n",
       "             param_grid={'criterion': ['gini', 'entropy'],\n",
       "                         'max_depth': range(7, 15),\n",
       "                         'max_leaf_nodes': range(20, 35),\n",
       "                         'n_estimators': [100, 200]},\n",
       "             scoring='roc_auc')"
      ]
     },
     "execution_count": 14,
     "metadata": {},
     "output_type": "execute_result"
    }
   ],
   "source": [
    "gs.fit(X_train_scaled1, y_train)"
   ]
  },
  {
   "cell_type": "code",
   "execution_count": 15,
   "id": "447cbe38",
   "metadata": {},
   "outputs": [
    {
     "data": {
      "text/plain": [
       "(0.8492543007948189,\n",
       " {'criterion': 'entropy',\n",
       "  'max_depth': 13,\n",
       "  'max_leaf_nodes': 34,\n",
       "  'n_estimators': 200})"
      ]
     },
     "execution_count": 15,
     "metadata": {},
     "output_type": "execute_result"
    }
   ],
   "source": [
    "gs.best_score_ , gs.best_params_"
   ]
  },
  {
   "cell_type": "code",
   "execution_count": 16,
   "id": "5e70b4a1",
   "metadata": {},
   "outputs": [
    {
     "data": {
      "text/plain": [
       "RandomForestClassifier(criterion='entropy', max_depth=13, max_leaf_nodes=34,\n",
       "                       n_estimators=200, random_state=0)"
      ]
     },
     "execution_count": 16,
     "metadata": {},
     "output_type": "execute_result"
    }
   ],
   "source": [
    "best_model1 =gs.best_estimator_\n",
    "best_model1"
   ]
  },
  {
   "cell_type": "code",
   "execution_count": 17,
   "id": "df066829",
   "metadata": {},
   "outputs": [
    {
     "data": {
      "text/plain": [
       "0.862239279822552"
      ]
     },
     "execution_count": 17,
     "metadata": {},
     "output_type": "execute_result"
    }
   ],
   "source": [
    "#GridSearchCV 로 찾은 best roc_auc rf \n",
    "from sklearn.metrics import roc_curve, plot_roc_curve, roc_auc_score\n",
    "roc_auc_score(y_val, best_model1.predict_proba(X_val_scaled1)[:,1])"
   ]
  },
  {
   "cell_type": "code",
   "execution_count": 8,
   "id": "3467812f",
   "metadata": {},
   "outputs": [],
   "source": [
    "#GridSearchCV\n",
    "from sklearn.model_selection  import GridSearchCV\n",
    "from sklearn.ensemble import RandomForestClassifier\n",
    "param ={\n",
    "        'n_estimators': [100,200], #200 이 베스트\n",
    "        'max_depth': range(7,15), # 7이 베스트 RandomizedSearchCV\n",
    "        'criterion':[\"gini\",\"entropy\"]\n",
    "}\n",
    "\n",
    "rf= RandomForestClassifier(random_state=0)\n",
    "gs1 = GridSearchCV(rf, param, scoring ='roc_auc', cv=5, n_jobs=-1)"
   ]
  },
  {
   "cell_type": "code",
   "execution_count": 9,
   "id": "bb329db5",
   "metadata": {},
   "outputs": [
    {
     "data": {
      "text/plain": [
       "GridSearchCV(cv=5, estimator=RandomForestClassifier(random_state=0), n_jobs=-1,\n",
       "             param_grid={'criterion': ['gini', 'entropy'],\n",
       "                         'max_depth': range(7, 15),\n",
       "                         'n_estimators': [100, 200]},\n",
       "             scoring='roc_auc')"
      ]
     },
     "execution_count": 9,
     "metadata": {},
     "output_type": "execute_result"
    }
   ],
   "source": [
    "gs1.fit(X_train_scaled1, y_train)"
   ]
  },
  {
   "cell_type": "code",
   "execution_count": 10,
   "id": "06fefca0",
   "metadata": {},
   "outputs": [
    {
     "data": {
      "text/plain": [
       "(0.8503665474164366,\n",
       " {'criterion': 'gini', 'max_depth': 10, 'n_estimators': 200})"
      ]
     },
     "execution_count": 10,
     "metadata": {},
     "output_type": "execute_result"
    }
   ],
   "source": [
    "gs1.best_score_ , gs1.best_params_"
   ]
  },
  {
   "cell_type": "code",
   "execution_count": 11,
   "id": "25ce38c1",
   "metadata": {},
   "outputs": [
    {
     "data": {
      "text/plain": [
       "RandomForestClassifier(max_depth=10, n_estimators=200, random_state=0)"
      ]
     },
     "execution_count": 11,
     "metadata": {},
     "output_type": "execute_result"
    }
   ],
   "source": [
    "best_model1 =gs1.best_estimator_\n",
    "best_model1"
   ]
  },
  {
   "cell_type": "code",
   "execution_count": 12,
   "id": "9a62a080",
   "metadata": {},
   "outputs": [
    {
     "data": {
      "text/plain": [
       "0.865253524994359"
      ]
     },
     "execution_count": 12,
     "metadata": {},
     "output_type": "execute_result"
    }
   ],
   "source": [
    "#GridSearchCV 로 찾은 best roc_auc rf \n",
    "from sklearn.metrics import roc_curve, plot_roc_curve, roc_auc_score\n",
    "roc_auc_score(y_val, best_model1.predict_proba(X_val_scaled1)[:,1])"
   ]
  },
  {
   "cell_type": "code",
   "execution_count": null,
   "id": "dac28a2e",
   "metadata": {},
   "outputs": [],
   "source": []
  },
  {
   "cell_type": "code",
   "execution_count": null,
   "id": "408c6dc6",
   "metadata": {},
   "outputs": [],
   "source": []
  },
  {
   "cell_type": "code",
   "execution_count": null,
   "id": "c76a5924",
   "metadata": {},
   "outputs": [],
   "source": []
  },
  {
   "cell_type": "code",
   "execution_count": null,
   "id": "e838c612",
   "metadata": {},
   "outputs": [],
   "source": []
  },
  {
   "cell_type": "code",
   "execution_count": null,
   "id": "fa194283",
   "metadata": {},
   "outputs": [],
   "source": [
    "#GridSearchCV score :0.847827518985363 / params :{'max_leaf_nodes': 23, 'max_depth': 8, 'criterion': 'entropy'} /roc_auc_score_val :0.8608423061310537"
   ]
  },
  {
   "cell_type": "code",
   "execution_count": null,
   "id": "34d336f5",
   "metadata": {},
   "outputs": [],
   "source": [
    "#Model 1-1  \n",
    "#RandomizedSearchCV score : 0.8478683553615106/ params :{'max_leaf_nodes': 23, 'max_depth': 7, 'criterion': 'entropy'} / roc_auc_score_val : 0.8605244741486768\n",
    "\n",
    "#Model 1-2\n",
    "#GridSearchCV score :0.847827518985363 / params :{'max_leaf_nodes': 23, 'max_depth': 8, 'criterion': 'entropy'} /roc_auc_score_val :0.8608423061310537"
   ]
  }
 ],
 "metadata": {
  "kernelspec": {
   "display_name": "Python 3 (ipykernel)",
   "language": "python",
   "name": "python3"
  },
  "language_info": {
   "codemirror_mode": {
    "name": "ipython",
    "version": 3
   },
   "file_extension": ".py",
   "mimetype": "text/x-python",
   "name": "python",
   "nbconvert_exporter": "python",
   "pygments_lexer": "ipython3",
   "version": "3.8.10"
  },
  "toc": {
   "base_numbering": 1,
   "nav_menu": {},
   "number_sections": true,
   "sideBar": true,
   "skip_h1_title": false,
   "title_cell": "Table of Contents",
   "title_sidebar": "Contents",
   "toc_cell": false,
   "toc_position": {},
   "toc_section_display": true,
   "toc_window_display": false
  }
 },
 "nbformat": 4,
 "nbformat_minor": 5
}
