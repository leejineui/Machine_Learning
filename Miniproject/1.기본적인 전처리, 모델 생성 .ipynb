{
 "cells": [
  {
   "cell_type": "markdown",
   "id": "d337ea5a",
   "metadata": {},
   "source": [
    "## 데이터 전처리 및 기본 모델 생성\n",
    "\n",
    "1. 전처리\n",
    "    - 1-1 NA features 가 있는 rows 를 제거하여 **기본적인 데이터**를 만든다. (DATA Remove NA rows)\n",
    "    - 1-2 **최적의 스케일** 방식을 찾는다. (Standard Scaler)\n",
    "    \n",
    "\n",
    "2. 기본 모델 분석 \n",
    "    - 파라미터가 초기화된 **기본 모델을 만들고 최적의 스케일 방식을 정해 roc_auc_score 를 분석** 최적의 모델 형성 방식을 정한다.<br>\n",
    "      (Standard scaling, rf- knn - svc - tree 순으로 roc_auc_score-val 의 점수가 높다)\n",
    "      \n",
    "3. Featuers 의 중요도 분석과 새로운 데이터 전처리 방법 \n",
    "    - RandomForest의 Featuer importances 함수로 피쳐의 중요성을 메기고 낮은 중요도의 피쳐를 제거 한 새로운 데이터 셋 Data1, Data2, Data3 생성\n",
    "    - 생성된 데이터 셋을 최척의 스케일(Standard Scaler)과 기본 모델 평가를 통해 roc_auc_score_val의 점수를 구해본다.  \n",
    "    (Data 쓰기로 결정)\n",
    "    "
   ]
  },
  {
   "cell_type": "code",
   "execution_count": 1,
   "id": "2900ad75",
   "metadata": {},
   "outputs": [],
   "source": [
    "import pandas as pd \n",
    "import numpy as np\n",
    "data =pd.read_csv(\"preprocessing\\cs_data.csv\",\n",
    "                 header=0,\n",
    "                 index_col=0)"
   ]
  },
  {
   "cell_type": "code",
   "execution_count": 2,
   "id": "c5983942",
   "metadata": {},
   "outputs": [
    {
     "data": {
      "text/html": [
       "<div>\n",
       "<style scoped>\n",
       "    .dataframe tbody tr th:only-of-type {\n",
       "        vertical-align: middle;\n",
       "    }\n",
       "\n",
       "    .dataframe tbody tr th {\n",
       "        vertical-align: top;\n",
       "    }\n",
       "\n",
       "    .dataframe thead th {\n",
       "        text-align: right;\n",
       "    }\n",
       "</style>\n",
       "<table border=\"1\" class=\"dataframe\">\n",
       "  <thead>\n",
       "    <tr style=\"text-align: right;\">\n",
       "      <th></th>\n",
       "      <th>SeriousDlqin2yrs</th>\n",
       "      <th>RevolvingUtilizationOfUnsecuredLines</th>\n",
       "      <th>age</th>\n",
       "      <th>NumberOfTime30-59DaysPastDueNotWorse</th>\n",
       "      <th>DebtRatio</th>\n",
       "      <th>MonthlyIncome</th>\n",
       "      <th>NumberOfOpenCreditLinesAndLoans</th>\n",
       "      <th>NumberOfTimes90DaysLate</th>\n",
       "      <th>NumberRealEstateLoansOrLines</th>\n",
       "      <th>NumberOfTime60-89DaysPastDueNotWorse</th>\n",
       "      <th>NumberOfDependents</th>\n",
       "    </tr>\n",
       "  </thead>\n",
       "  <tbody>\n",
       "    <tr>\n",
       "      <th>1</th>\n",
       "      <td>1</td>\n",
       "      <td>0.766127</td>\n",
       "      <td>45</td>\n",
       "      <td>2</td>\n",
       "      <td>0.802982</td>\n",
       "      <td>9120.0</td>\n",
       "      <td>13</td>\n",
       "      <td>0</td>\n",
       "      <td>6</td>\n",
       "      <td>0</td>\n",
       "      <td>2.0</td>\n",
       "    </tr>\n",
       "    <tr>\n",
       "      <th>2</th>\n",
       "      <td>0</td>\n",
       "      <td>0.957151</td>\n",
       "      <td>40</td>\n",
       "      <td>0</td>\n",
       "      <td>0.121876</td>\n",
       "      <td>2600.0</td>\n",
       "      <td>4</td>\n",
       "      <td>0</td>\n",
       "      <td>0</td>\n",
       "      <td>0</td>\n",
       "      <td>1.0</td>\n",
       "    </tr>\n",
       "    <tr>\n",
       "      <th>3</th>\n",
       "      <td>0</td>\n",
       "      <td>0.658180</td>\n",
       "      <td>38</td>\n",
       "      <td>1</td>\n",
       "      <td>0.085113</td>\n",
       "      <td>3042.0</td>\n",
       "      <td>2</td>\n",
       "      <td>1</td>\n",
       "      <td>0</td>\n",
       "      <td>0</td>\n",
       "      <td>0.0</td>\n",
       "    </tr>\n",
       "    <tr>\n",
       "      <th>4</th>\n",
       "      <td>0</td>\n",
       "      <td>0.233810</td>\n",
       "      <td>30</td>\n",
       "      <td>0</td>\n",
       "      <td>0.036050</td>\n",
       "      <td>3300.0</td>\n",
       "      <td>5</td>\n",
       "      <td>0</td>\n",
       "      <td>0</td>\n",
       "      <td>0</td>\n",
       "      <td>0.0</td>\n",
       "    </tr>\n",
       "    <tr>\n",
       "      <th>5</th>\n",
       "      <td>0</td>\n",
       "      <td>0.907239</td>\n",
       "      <td>49</td>\n",
       "      <td>1</td>\n",
       "      <td>0.024926</td>\n",
       "      <td>63588.0</td>\n",
       "      <td>7</td>\n",
       "      <td>0</td>\n",
       "      <td>1</td>\n",
       "      <td>0</td>\n",
       "      <td>0.0</td>\n",
       "    </tr>\n",
       "  </tbody>\n",
       "</table>\n",
       "</div>"
      ],
      "text/plain": [
       "   SeriousDlqin2yrs  RevolvingUtilizationOfUnsecuredLines  age  \\\n",
       "1                 1                              0.766127   45   \n",
       "2                 0                              0.957151   40   \n",
       "3                 0                              0.658180   38   \n",
       "4                 0                              0.233810   30   \n",
       "5                 0                              0.907239   49   \n",
       "\n",
       "   NumberOfTime30-59DaysPastDueNotWorse  DebtRatio  MonthlyIncome  \\\n",
       "1                                     2   0.802982         9120.0   \n",
       "2                                     0   0.121876         2600.0   \n",
       "3                                     1   0.085113         3042.0   \n",
       "4                                     0   0.036050         3300.0   \n",
       "5                                     1   0.024926        63588.0   \n",
       "\n",
       "   NumberOfOpenCreditLinesAndLoans  NumberOfTimes90DaysLate  \\\n",
       "1                               13                        0   \n",
       "2                                4                        0   \n",
       "3                                2                        1   \n",
       "4                                5                        0   \n",
       "5                                7                        0   \n",
       "\n",
       "   NumberRealEstateLoansOrLines  NumberOfTime60-89DaysPastDueNotWorse  \\\n",
       "1                             6                                     0   \n",
       "2                             0                                     0   \n",
       "3                             0                                     0   \n",
       "4                             0                                     0   \n",
       "5                             1                                     0   \n",
       "\n",
       "   NumberOfDependents  \n",
       "1                 2.0  \n",
       "2                 1.0  \n",
       "3                 0.0  \n",
       "4                 0.0  \n",
       "5                 0.0  "
      ]
     },
     "execution_count": 2,
     "metadata": {},
     "output_type": "execute_result"
    }
   ],
   "source": [
    "data.head()\n",
    "#SeriousDlqin2yrs / RevolvingUtilizationOfUnsecuredLines /age /NumberOfTime30-59DaysPastDueNotWorse/\n",
    "#DebtRatio/MonthlyIncome/NumberOfOpenCreditLinesAndLoans/NumberOfTimes90DaysLate/NumberRealEstateLoansOrLines/\n",
    "#NumberOfTime60-89DaysPastDueNotWorse/NumberOfDependents"
   ]
  },
  {
   "cell_type": "code",
   "execution_count": 3,
   "id": "795d11da",
   "metadata": {
    "collapsed": true
   },
   "outputs": [
    {
     "name": "stdout",
     "output_type": "stream",
     "text": [
      "SeriousDlqin2yrs                        150000\n",
      "RevolvingUtilizationOfUnsecuredLines    150000\n",
      "age                                     150000\n",
      "NumberOfTime30-59DaysPastDueNotWorse    150000\n",
      "DebtRatio                               150000\n",
      "MonthlyIncome                           120269\n",
      "NumberOfOpenCreditLinesAndLoans         150000\n",
      "NumberOfTimes90DaysLate                 150000\n",
      "NumberRealEstateLoansOrLines            150000\n",
      "NumberOfTime60-89DaysPastDueNotWorse    150000\n",
      "NumberOfDependents                      146076\n",
      "dtype: int64\n",
      "SeriousDlqin2yrs                            0\n",
      "RevolvingUtilizationOfUnsecuredLines        0\n",
      "age                                         0\n",
      "NumberOfTime30-59DaysPastDueNotWorse        0\n",
      "DebtRatio                                   0\n",
      "MonthlyIncome                           29731\n",
      "NumberOfOpenCreditLinesAndLoans             0\n",
      "NumberOfTimes90DaysLate                     0\n",
      "NumberRealEstateLoansOrLines                0\n",
      "NumberOfTime60-89DaysPastDueNotWorse        0\n",
      "NumberOfDependents                       3924\n",
      "dtype: int64\n"
     ]
    }
   ],
   "source": [
    "print(data.count())\n",
    "print(data.isnull().sum())"
   ]
  },
  {
   "cell_type": "code",
   "execution_count": 4,
   "id": "6513f1cc",
   "metadata": {},
   "outputs": [
    {
     "data": {
      "text/plain": [
       "(150000, 11)"
      ]
     },
     "execution_count": 4,
     "metadata": {},
     "output_type": "execute_result"
    }
   ],
   "source": [
    "data.head()\n",
    "data.shape"
   ]
  },
  {
   "cell_type": "code",
   "execution_count": 5,
   "id": "6acf5ef1",
   "metadata": {},
   "outputs": [
    {
     "data": {
      "text/html": [
       "<div>\n",
       "<style scoped>\n",
       "    .dataframe tbody tr th:only-of-type {\n",
       "        vertical-align: middle;\n",
       "    }\n",
       "\n",
       "    .dataframe tbody tr th {\n",
       "        vertical-align: top;\n",
       "    }\n",
       "\n",
       "    .dataframe thead th {\n",
       "        text-align: right;\n",
       "    }\n",
       "</style>\n",
       "<table border=\"1\" class=\"dataframe\">\n",
       "  <thead>\n",
       "    <tr style=\"text-align: right;\">\n",
       "      <th></th>\n",
       "      <th>SeriousDlqin2yrs</th>\n",
       "      <th>RevolvingUtilizationOfUnsecuredLines</th>\n",
       "      <th>age</th>\n",
       "      <th>NumberOfTime30-59DaysPastDueNotWorse</th>\n",
       "      <th>DebtRatio</th>\n",
       "      <th>MonthlyIncome</th>\n",
       "      <th>NumberOfOpenCreditLinesAndLoans</th>\n",
       "      <th>NumberOfTimes90DaysLate</th>\n",
       "      <th>NumberRealEstateLoansOrLines</th>\n",
       "      <th>NumberOfTime60-89DaysPastDueNotWorse</th>\n",
       "      <th>NumberOfDependents</th>\n",
       "    </tr>\n",
       "  </thead>\n",
       "  <tbody>\n",
       "    <tr>\n",
       "      <th>1</th>\n",
       "      <td>1</td>\n",
       "      <td>0.766127</td>\n",
       "      <td>45</td>\n",
       "      <td>2</td>\n",
       "      <td>0.802982</td>\n",
       "      <td>9120.0</td>\n",
       "      <td>13</td>\n",
       "      <td>0</td>\n",
       "      <td>6</td>\n",
       "      <td>0</td>\n",
       "      <td>2.0</td>\n",
       "    </tr>\n",
       "    <tr>\n",
       "      <th>2</th>\n",
       "      <td>0</td>\n",
       "      <td>0.957151</td>\n",
       "      <td>40</td>\n",
       "      <td>0</td>\n",
       "      <td>0.121876</td>\n",
       "      <td>2600.0</td>\n",
       "      <td>4</td>\n",
       "      <td>0</td>\n",
       "      <td>0</td>\n",
       "      <td>0</td>\n",
       "      <td>1.0</td>\n",
       "    </tr>\n",
       "    <tr>\n",
       "      <th>3</th>\n",
       "      <td>0</td>\n",
       "      <td>0.658180</td>\n",
       "      <td>38</td>\n",
       "      <td>1</td>\n",
       "      <td>0.085113</td>\n",
       "      <td>3042.0</td>\n",
       "      <td>2</td>\n",
       "      <td>1</td>\n",
       "      <td>0</td>\n",
       "      <td>0</td>\n",
       "      <td>0.0</td>\n",
       "    </tr>\n",
       "    <tr>\n",
       "      <th>4</th>\n",
       "      <td>0</td>\n",
       "      <td>0.233810</td>\n",
       "      <td>30</td>\n",
       "      <td>0</td>\n",
       "      <td>0.036050</td>\n",
       "      <td>3300.0</td>\n",
       "      <td>5</td>\n",
       "      <td>0</td>\n",
       "      <td>0</td>\n",
       "      <td>0</td>\n",
       "      <td>0.0</td>\n",
       "    </tr>\n",
       "    <tr>\n",
       "      <th>5</th>\n",
       "      <td>0</td>\n",
       "      <td>0.907239</td>\n",
       "      <td>49</td>\n",
       "      <td>1</td>\n",
       "      <td>0.024926</td>\n",
       "      <td>63588.0</td>\n",
       "      <td>7</td>\n",
       "      <td>0</td>\n",
       "      <td>1</td>\n",
       "      <td>0</td>\n",
       "      <td>0.0</td>\n",
       "    </tr>\n",
       "  </tbody>\n",
       "</table>\n",
       "</div>"
      ],
      "text/plain": [
       "   SeriousDlqin2yrs  RevolvingUtilizationOfUnsecuredLines  age  \\\n",
       "1                 1                              0.766127   45   \n",
       "2                 0                              0.957151   40   \n",
       "3                 0                              0.658180   38   \n",
       "4                 0                              0.233810   30   \n",
       "5                 0                              0.907239   49   \n",
       "\n",
       "   NumberOfTime30-59DaysPastDueNotWorse  DebtRatio  MonthlyIncome  \\\n",
       "1                                     2   0.802982         9120.0   \n",
       "2                                     0   0.121876         2600.0   \n",
       "3                                     1   0.085113         3042.0   \n",
       "4                                     0   0.036050         3300.0   \n",
       "5                                     1   0.024926        63588.0   \n",
       "\n",
       "   NumberOfOpenCreditLinesAndLoans  NumberOfTimes90DaysLate  \\\n",
       "1                               13                        0   \n",
       "2                                4                        0   \n",
       "3                                2                        1   \n",
       "4                                5                        0   \n",
       "5                                7                        0   \n",
       "\n",
       "   NumberRealEstateLoansOrLines  NumberOfTime60-89DaysPastDueNotWorse  \\\n",
       "1                             6                                     0   \n",
       "2                             0                                     0   \n",
       "3                             0                                     0   \n",
       "4                             0                                     0   \n",
       "5                             1                                     0   \n",
       "\n",
       "   NumberOfDependents  \n",
       "1                 2.0  \n",
       "2                 1.0  \n",
       "3                 0.0  \n",
       "4                 0.0  \n",
       "5                 0.0  "
      ]
     },
     "execution_count": 5,
     "metadata": {},
     "output_type": "execute_result"
    }
   ],
   "source": [
    "# 1-1 NA 제거 \n",
    "data.dropna(inplace=True)\n",
    "data.head()"
   ]
  },
  {
   "cell_type": "code",
   "execution_count": 6,
   "id": "b64f8d31",
   "metadata": {},
   "outputs": [
    {
     "data": {
      "text/plain": [
       "(120269, 11)"
      ]
     },
     "execution_count": 6,
     "metadata": {},
     "output_type": "execute_result"
    }
   ],
   "source": [
    "data.isnull().sum()\n",
    "data.shape"
   ]
  },
  {
   "cell_type": "code",
   "execution_count": 10,
   "id": "14b1e9a0",
   "metadata": {
    "collapsed": true
   },
   "outputs": [
    {
     "data": {
      "text/html": [
       "<div>\n",
       "<style scoped>\n",
       "    .dataframe tbody tr th:only-of-type {\n",
       "        vertical-align: middle;\n",
       "    }\n",
       "\n",
       "    .dataframe tbody tr th {\n",
       "        vertical-align: top;\n",
       "    }\n",
       "\n",
       "    .dataframe thead th {\n",
       "        text-align: right;\n",
       "    }\n",
       "</style>\n",
       "<table border=\"1\" class=\"dataframe\">\n",
       "  <thead>\n",
       "    <tr style=\"text-align: right;\">\n",
       "      <th></th>\n",
       "      <th>SeriousDlqin2yrs</th>\n",
       "      <th>RevolvingUtilizationOfUnsecuredLines</th>\n",
       "      <th>age</th>\n",
       "      <th>NumberOfTime30-59DaysPastDueNotWorse</th>\n",
       "      <th>DebtRatio</th>\n",
       "      <th>MonthlyIncome</th>\n",
       "      <th>NumberOfOpenCreditLinesAndLoans</th>\n",
       "      <th>NumberOfTimes90DaysLate</th>\n",
       "      <th>NumberRealEstateLoansOrLines</th>\n",
       "      <th>NumberOfTime60-89DaysPastDueNotWorse</th>\n",
       "      <th>NumberOfDependents</th>\n",
       "    </tr>\n",
       "  </thead>\n",
       "  <tbody>\n",
       "    <tr>\n",
       "      <th>1</th>\n",
       "      <td>1</td>\n",
       "      <td>0.766127</td>\n",
       "      <td>45</td>\n",
       "      <td>2</td>\n",
       "      <td>0.802982</td>\n",
       "      <td>9120.0</td>\n",
       "      <td>13</td>\n",
       "      <td>0</td>\n",
       "      <td>6</td>\n",
       "      <td>0</td>\n",
       "      <td>2.0</td>\n",
       "    </tr>\n",
       "    <tr>\n",
       "      <th>2</th>\n",
       "      <td>0</td>\n",
       "      <td>0.957151</td>\n",
       "      <td>40</td>\n",
       "      <td>0</td>\n",
       "      <td>0.121876</td>\n",
       "      <td>2600.0</td>\n",
       "      <td>4</td>\n",
       "      <td>0</td>\n",
       "      <td>0</td>\n",
       "      <td>0</td>\n",
       "      <td>1.0</td>\n",
       "    </tr>\n",
       "    <tr>\n",
       "      <th>3</th>\n",
       "      <td>0</td>\n",
       "      <td>0.658180</td>\n",
       "      <td>38</td>\n",
       "      <td>1</td>\n",
       "      <td>0.085113</td>\n",
       "      <td>3042.0</td>\n",
       "      <td>2</td>\n",
       "      <td>1</td>\n",
       "      <td>0</td>\n",
       "      <td>0</td>\n",
       "      <td>0.0</td>\n",
       "    </tr>\n",
       "    <tr>\n",
       "      <th>4</th>\n",
       "      <td>0</td>\n",
       "      <td>0.233810</td>\n",
       "      <td>30</td>\n",
       "      <td>0</td>\n",
       "      <td>0.036050</td>\n",
       "      <td>3300.0</td>\n",
       "      <td>5</td>\n",
       "      <td>0</td>\n",
       "      <td>0</td>\n",
       "      <td>0</td>\n",
       "      <td>0.0</td>\n",
       "    </tr>\n",
       "    <tr>\n",
       "      <th>5</th>\n",
       "      <td>0</td>\n",
       "      <td>0.907239</td>\n",
       "      <td>49</td>\n",
       "      <td>1</td>\n",
       "      <td>0.024926</td>\n",
       "      <td>63588.0</td>\n",
       "      <td>7</td>\n",
       "      <td>0</td>\n",
       "      <td>1</td>\n",
       "      <td>0</td>\n",
       "      <td>0.0</td>\n",
       "    </tr>\n",
       "    <tr>\n",
       "      <th>...</th>\n",
       "      <td>...</td>\n",
       "      <td>...</td>\n",
       "      <td>...</td>\n",
       "      <td>...</td>\n",
       "      <td>...</td>\n",
       "      <td>...</td>\n",
       "      <td>...</td>\n",
       "      <td>...</td>\n",
       "      <td>...</td>\n",
       "      <td>...</td>\n",
       "      <td>...</td>\n",
       "    </tr>\n",
       "    <tr>\n",
       "      <th>149995</th>\n",
       "      <td>0</td>\n",
       "      <td>0.385742</td>\n",
       "      <td>50</td>\n",
       "      <td>0</td>\n",
       "      <td>0.404293</td>\n",
       "      <td>3400.0</td>\n",
       "      <td>7</td>\n",
       "      <td>0</td>\n",
       "      <td>0</td>\n",
       "      <td>0</td>\n",
       "      <td>0.0</td>\n",
       "    </tr>\n",
       "    <tr>\n",
       "      <th>149996</th>\n",
       "      <td>0</td>\n",
       "      <td>0.040674</td>\n",
       "      <td>74</td>\n",
       "      <td>0</td>\n",
       "      <td>0.225131</td>\n",
       "      <td>2100.0</td>\n",
       "      <td>4</td>\n",
       "      <td>0</td>\n",
       "      <td>1</td>\n",
       "      <td>0</td>\n",
       "      <td>0.0</td>\n",
       "    </tr>\n",
       "    <tr>\n",
       "      <th>149997</th>\n",
       "      <td>0</td>\n",
       "      <td>0.299745</td>\n",
       "      <td>44</td>\n",
       "      <td>0</td>\n",
       "      <td>0.716562</td>\n",
       "      <td>5584.0</td>\n",
       "      <td>4</td>\n",
       "      <td>0</td>\n",
       "      <td>1</td>\n",
       "      <td>0</td>\n",
       "      <td>2.0</td>\n",
       "    </tr>\n",
       "    <tr>\n",
       "      <th>149999</th>\n",
       "      <td>0</td>\n",
       "      <td>0.000000</td>\n",
       "      <td>30</td>\n",
       "      <td>0</td>\n",
       "      <td>0.000000</td>\n",
       "      <td>5716.0</td>\n",
       "      <td>4</td>\n",
       "      <td>0</td>\n",
       "      <td>0</td>\n",
       "      <td>0</td>\n",
       "      <td>0.0</td>\n",
       "    </tr>\n",
       "    <tr>\n",
       "      <th>150000</th>\n",
       "      <td>0</td>\n",
       "      <td>0.850283</td>\n",
       "      <td>64</td>\n",
       "      <td>0</td>\n",
       "      <td>0.249908</td>\n",
       "      <td>8158.0</td>\n",
       "      <td>8</td>\n",
       "      <td>0</td>\n",
       "      <td>2</td>\n",
       "      <td>0</td>\n",
       "      <td>0.0</td>\n",
       "    </tr>\n",
       "  </tbody>\n",
       "</table>\n",
       "<p>120269 rows × 11 columns</p>\n",
       "</div>"
      ],
      "text/plain": [
       "        SeriousDlqin2yrs  RevolvingUtilizationOfUnsecuredLines  age  \\\n",
       "1                      1                              0.766127   45   \n",
       "2                      0                              0.957151   40   \n",
       "3                      0                              0.658180   38   \n",
       "4                      0                              0.233810   30   \n",
       "5                      0                              0.907239   49   \n",
       "...                  ...                                   ...  ...   \n",
       "149995                 0                              0.385742   50   \n",
       "149996                 0                              0.040674   74   \n",
       "149997                 0                              0.299745   44   \n",
       "149999                 0                              0.000000   30   \n",
       "150000                 0                              0.850283   64   \n",
       "\n",
       "        NumberOfTime30-59DaysPastDueNotWorse  DebtRatio  MonthlyIncome  \\\n",
       "1                                          2   0.802982         9120.0   \n",
       "2                                          0   0.121876         2600.0   \n",
       "3                                          1   0.085113         3042.0   \n",
       "4                                          0   0.036050         3300.0   \n",
       "5                                          1   0.024926        63588.0   \n",
       "...                                      ...        ...            ...   \n",
       "149995                                     0   0.404293         3400.0   \n",
       "149996                                     0   0.225131         2100.0   \n",
       "149997                                     0   0.716562         5584.0   \n",
       "149999                                     0   0.000000         5716.0   \n",
       "150000                                     0   0.249908         8158.0   \n",
       "\n",
       "        NumberOfOpenCreditLinesAndLoans  NumberOfTimes90DaysLate  \\\n",
       "1                                    13                        0   \n",
       "2                                     4                        0   \n",
       "3                                     2                        1   \n",
       "4                                     5                        0   \n",
       "5                                     7                        0   \n",
       "...                                 ...                      ...   \n",
       "149995                                7                        0   \n",
       "149996                                4                        0   \n",
       "149997                                4                        0   \n",
       "149999                                4                        0   \n",
       "150000                                8                        0   \n",
       "\n",
       "        NumberRealEstateLoansOrLines  NumberOfTime60-89DaysPastDueNotWorse  \\\n",
       "1                                  6                                     0   \n",
       "2                                  0                                     0   \n",
       "3                                  0                                     0   \n",
       "4                                  0                                     0   \n",
       "5                                  1                                     0   \n",
       "...                              ...                                   ...   \n",
       "149995                             0                                     0   \n",
       "149996                             1                                     0   \n",
       "149997                             1                                     0   \n",
       "149999                             0                                     0   \n",
       "150000                             2                                     0   \n",
       "\n",
       "        NumberOfDependents  \n",
       "1                      2.0  \n",
       "2                      1.0  \n",
       "3                      0.0  \n",
       "4                      0.0  \n",
       "5                      0.0  \n",
       "...                    ...  \n",
       "149995                 0.0  \n",
       "149996                 0.0  \n",
       "149997                 2.0  \n",
       "149999                 0.0  \n",
       "150000                 0.0  \n",
       "\n",
       "[120269 rows x 11 columns]"
      ]
     },
     "execution_count": 10,
     "metadata": {},
     "output_type": "execute_result"
    }
   ],
   "source": [
    "data"
   ]
  },
  {
   "cell_type": "code",
   "execution_count": null,
   "id": "64339d60",
   "metadata": {},
   "outputs": [],
   "source": [
    "# Basic 모델 만들기 "
   ]
  },
  {
   "cell_type": "code",
   "execution_count": 12,
   "id": "91eae243",
   "metadata": {},
   "outputs": [
    {
     "data": {
      "text/plain": [
       "((120269, 10), (120269,))"
      ]
     },
     "execution_count": 12,
     "metadata": {},
     "output_type": "execute_result"
    }
   ],
   "source": [
    "# DATA SET X ,y 로 나누기 \n",
    "X= data.drop(columns='SeriousDlqin2yrs')\n",
    "y= data['SeriousDlqin2yrs']\n",
    "X.shape , y.shape"
   ]
  },
  {
   "cell_type": "code",
   "execution_count": 13,
   "id": "df5e9ee0",
   "metadata": {},
   "outputs": [],
   "source": [
    "# Dataset 구분 TEST,VAL,TRAIN\n",
    "from sklearn.model_selection import train_test_split \n",
    "X_train, X_test, y_train, y_test = train_test_split (X, y, test_size =0.2, stratify=y ,random_state=0) \n",
    "X_train, X_val, y_train, y_val = train_test_split(X_train, y_train, test_size=0.2, stratify=y_train, random_state=0)"
   ]
  },
  {
   "cell_type": "code",
   "execution_count": 14,
   "id": "f2277dd9",
   "metadata": {},
   "outputs": [],
   "source": [
    "# Scaling \n",
    "# Scaled1 : StandardScaler\n",
    "# Scaled2 : MinMaxScaler\n",
    "from sklearn.preprocessing import StandardScaler, MinMaxScaler\n",
    "sc= StandardScaler()\n",
    "X_train_scaled1=sc.fit_transform(X_train)\n",
    "X_val_scaled1=sc.transform(X_val)\n",
    "X_test_scaled1=sc.transform(X_test)\n",
    "\n",
    "\n",
    "mn = MinMaxScaler()\n",
    "X_train_scaled2 =mn.fit_transform(X_train)\n",
    "X_val_scaled2 =mn.transform(X_val)\n",
    "X_test_scaled2=mn.transform(X_test)"
   ]
  },
  {
   "cell_type": "code",
   "execution_count": 16,
   "id": "14f31861",
   "metadata": {},
   "outputs": [],
   "source": [
    "# Training \n",
    "from sklearn.neighbors import KNeighborsClassifier\n",
    "from sklearn.tree import DecisionTreeClassifier\n",
    "from sklearn.ensemble import RandomForestClassifier\n",
    "from sklearn.svm import SVC\n",
    "from sklearn.metrics import roc_curve, plot_roc_curve, roc_auc_score\n",
    "\n",
    "knn =KNeighborsClassifier()\n",
    "tree=DecisionTreeClassifier(random_state=0)\n",
    "rf=RandomForestClassifier(random_state=0)\n",
    "svc= SVC(random_state=0, probability =True)"
   ]
  },
  {
   "cell_type": "code",
   "execution_count": 17,
   "id": "f208c1f4",
   "metadata": {},
   "outputs": [
    {
     "data": {
      "text/plain": [
       "SVC(probability=True, random_state=0)"
      ]
     },
     "execution_count": 17,
     "metadata": {},
     "output_type": "execute_result"
    }
   ],
   "source": [
    "knn.fit(X_train_scaled1,y_train)\n",
    "tree.fit(X_train_scaled1,y_train)\n",
    "rf.fit(X_train_scaled1,y_train)\n",
    "svc.fit(X_train_scaled1,y_train)"
   ]
  },
  {
   "cell_type": "code",
   "execution_count": 18,
   "id": "053fad01",
   "metadata": {},
   "outputs": [],
   "source": [
    "#train_scaled1 proba => StandardScaler 로 했을 경우 \n",
    "prob_knn_train=knn.predict_proba(X_train_scaled1)[:,1]\n",
    "prob_tree_train= tree.predict_proba(X_train_scaled1)[:,1]\n",
    "prob_rf_train=rf.predict_proba(X_train_scaled1)[:,1]\n",
    "prob_svc_train=svc.predict_proba(X_train_scaled1)[:,1]"
   ]
  },
  {
   "cell_type": "code",
   "execution_count": 31,
   "id": "17200bba",
   "metadata": {},
   "outputs": [
    {
     "name": "stdout",
     "output_type": "stream",
     "text": [
      "Train_StandardScaler_roc_auc_score\n",
      "knn:0.9438702150745297 | Decisiontree:0.9999999921693801 | RandomForest:0.9999955313261903 | SVC:0.6550256904762071\n"
     ]
    }
   ],
   "source": [
    "#train_scaled1 proba => StandardScaler 의 roc_auc_score\n",
    "print(\"Train_StandardScaler_roc_auc_score\")\n",
    "print(\"knn:{} | Decisiontree:{} | RandomForest:{} | SVC:{}\".format(roc_auc_score(y_train, prob_knn_train),roc_auc_score(y_train,prob_tree_train),roc_auc_score(y_train,prob_rf_train),roc_auc_score(y_train, prob_svc_train)))"
   ]
  },
  {
   "cell_type": "code",
   "execution_count": 20,
   "id": "0eea73c4",
   "metadata": {},
   "outputs": [],
   "source": [
    "# val_scaled1 proba => standardScaler 로 했을 경우 \n",
    "prob_knn_val=knn.predict_proba(X_val_scaled1)[:,1]\n",
    "prob_tree_val= tree.predict_proba(X_val_scaled1)[:,1]\n",
    "prob_rf_val=rf.predict_proba(X_val_scaled1)[:,1]\n",
    "prob_svc_val=svc.predict_proba(X_val_scaled1)[:,1]"
   ]
  },
  {
   "cell_type": "code",
   "execution_count": 54,
   "id": "1ef6469b",
   "metadata": {},
   "outputs": [
    {
     "data": {
      "text/plain": [
       "((19243,), (19243,))"
      ]
     },
     "execution_count": 54,
     "metadata": {},
     "output_type": "execute_result"
    }
   ],
   "source": [
    "y_val.shape , prob_knn_val.shape"
   ]
  },
  {
   "cell_type": "code",
   "execution_count": 32,
   "id": "7449cdf3",
   "metadata": {},
   "outputs": [
    {
     "name": "stdout",
     "output_type": "stream",
     "text": [
      "Val_StandardScaler_roc_auc_Score\n",
      "knn:0.6999108449752681 | Decisiontree:0.5981121724260852 | RandomForest:0.8389143220379409 | SVC:0.6346719146049915\n"
     ]
    }
   ],
   "source": [
    "print(\"Val_StandardScaler_roc_auc_Score\")\n",
    "print(\"knn:{} | Decisiontree:{} | RandomForest:{} | SVC:{}\".format(roc_auc_score(y_val, prob_knn_val),roc_auc_score(y_val,prob_tree_val),roc_auc_score(y_val,prob_rf_val),roc_auc_score(y_val, prob_svc_val)))"
   ]
  },
  {
   "cell_type": "code",
   "execution_count": 30,
   "id": "70a90faf",
   "metadata": {},
   "outputs": [
    {
     "data": {
      "text/plain": [
       "SVC(probability=True, random_state=0)"
      ]
     },
     "execution_count": 30,
     "metadata": {},
     "output_type": "execute_result"
    }
   ],
   "source": [
    "# val_scaled2 proba\n",
    "knn.fit(X_train_scaled2,y_train)\n",
    "tree.fit(X_train_scaled2,y_train)\n",
    "rf.fit(X_train_scaled2,y_train)\n",
    "svc.fit(X_train_scaled2,y_train)"
   ]
  },
  {
   "cell_type": "code",
   "execution_count": 37,
   "id": "9cde1d51",
   "metadata": {},
   "outputs": [],
   "source": [
    "# val_scaled2 proba => MinMaxScaler 로 했을 경우 \n",
    "prob_knn_train=knn.predict_proba(X_train_scaled2)[:,1]\n",
    "prob_tree_train= tree.predict_proba(X_train_scaled2)[:,1]\n",
    "prob_rf_train=rf.predict_proba(X_train_scaled2)[:,1]\n",
    "prob_svc_train=svc.predict_proba(X_train_scaled2)[:,1]"
   ]
  },
  {
   "cell_type": "code",
   "execution_count": 38,
   "id": "171cdd12",
   "metadata": {},
   "outputs": [
    {
     "name": "stdout",
     "output_type": "stream",
     "text": [
      "Train_MinMaxScaler_roc_auc_score\n",
      "knn:0.9443915333801829 | Decisiontree:0.9999999856438633 | RandomForest:0.9999946516865444 | SVC:0.6137663729878775\n"
     ]
    }
   ],
   "source": [
    "#train_scaled1 proba => MinMaxScaler 의 roc_auc_score\n",
    "print(\"Train_MinMaxScaler_roc_auc_score\")\n",
    "print(\"knn:{} | Decisiontree:{} | RandomForest:{} | SVC:{}\".format(roc_auc_score(y_train, prob_knn_train),roc_auc_score(y_train,prob_tree_train),roc_auc_score(y_train,prob_rf_train),roc_auc_score(y_train, prob_svc_train)))"
   ]
  },
  {
   "cell_type": "code",
   "execution_count": 35,
   "id": "dc335a18",
   "metadata": {},
   "outputs": [],
   "source": [
    "prob_knn_val2=knn.predict_proba(X_val_scaled2)[:,1]\n",
    "prob_tree_val2= tree.predict_proba(X_val_scaled2)[:,1]\n",
    "prob_rf_val2=rf.predict_proba(X_val_scaled2)[:,1]\n",
    "prob_svc_val2=svc.predict_proba(X_val_scaled2)[:,1]"
   ]
  },
  {
   "cell_type": "code",
   "execution_count": 36,
   "id": "6106dc13",
   "metadata": {},
   "outputs": [
    {
     "name": "stdout",
     "output_type": "stream",
     "text": [
      "Val_MinMaxScaler_roc_auc_Score\n",
      "knn:0.6643361563808541 | Decisiontree:0.6108506393523028 | RnadomForest:0.8393583845697647 | SVC:0.6095620184223086\n"
     ]
    }
   ],
   "source": [
    "print(\"Val_MinMaxScaler_roc_auc_Score\")\n",
    "print(\"knn:{} | Decisiontree:{} | RnadomForest:{} | SVC:{}\".format(roc_auc_score(y_val, prob_knn_val2), roc_auc_score(y_val,prob_tree_val2), roc_auc_score(y_val,prob_rf_val2), roc_auc_score(y_val, prob_svc_val2)))"
   ]
  },
  {
   "cell_type": "code",
   "execution_count": null,
   "id": "97d58e10",
   "metadata": {},
   "outputs": [],
   "source": [
    "# Scaler 비교 : Train, Val모든 결과 값에서 StandardScaler 가 더 우세 하다  \n",
    "\n",
    "# Train_StandardScaler_roc_auc_score\n",
    "# knn:0.9438702150745297 | Decisiontree:0.9999999921693801 | RandomForest:0.9999955313261903 | SVC:0.6550256904762071\n",
    "\n",
    "\n",
    "# Val_StandardScaler_roc_auc_Score\n",
    "# knn:0.6999108449752681 | Decisiontree:0.5981121724260852 | RandomForest:0.8389143220379409 | SVC:0.6346719146049915\n",
    "                \n",
    "    \n",
    "# Train_MinMaxScaler_roc_auc_score\n",
    "# knn:0.9443915333801829 | Decisiontree:0.9999999856438633 | RandomForest:0.9999946516865444 | SVC:0.6137663729878775\n",
    "    \n",
    "                \n",
    "# Val_MinMaxScaler_roc_auc_Score\n",
    "# knn:0.6643361563808541 | Decisiontree:0.6108506393523028 | RnadomForest:0.8393583845697647 | SVC:0.6095620184223086\n"
   ]
  },
  {
   "cell_type": "code",
   "execution_count": null,
   "id": "e2eefda1",
   "metadata": {},
   "outputs": [],
   "source": [
    "# 기본으로 했을 때 standard scaling이 더 잘나옴, 잘나오는 모델 순 rf- knn - svc - tree"
   ]
  },
  {
   "cell_type": "code",
   "execution_count": 19,
   "id": "a5052feb",
   "metadata": {},
   "outputs": [
    {
     "data": {
      "text/plain": [
       "NumberRealEstateLoansOrLines            0.035682\n",
       "NumberOfTime60-89DaysPastDueNotWorse    0.044924\n",
       "NumberOfDependents                      0.046968\n",
       "NumberOfTime30-59DaysPastDueNotWorse    0.051149\n",
       "NumberOfTimes90DaysLate                 0.086852\n",
       "NumberOfOpenCreditLinesAndLoans         0.089606\n",
       "age                                     0.122492\n",
       "MonthlyIncome                           0.162533\n",
       "DebtRatio                               0.172253\n",
       "RevolvingUtilizationOfUnsecuredLines    0.187541\n",
       "dtype: float64"
      ]
     },
     "execution_count": 19,
     "metadata": {},
     "output_type": "execute_result"
    }
   ],
   "source": [
    "rf.feature_importances_\n",
    "fi =pd.Series(rf.feature_importances_, index=X.columns)\n",
    "fi.sort_values()"
   ]
  },
  {
   "cell_type": "code",
   "execution_count": null,
   "id": "d7c11df3",
   "metadata": {},
   "outputs": [],
   "source": []
  },
  {
   "cell_type": "code",
   "execution_count": 39,
   "id": "81c8a22b",
   "metadata": {},
   "outputs": [],
   "source": [
    "# drop the columns 'NumberRealEstateLoansOrLines'\n",
    "data1 = data.drop(columns='NumberRealEstateLoansOrLines')\n",
    "data1.head()\n",
    "data1.to_csv('preprocessing\\cs_data1.csv')\n"
   ]
  },
  {
   "cell_type": "code",
   "execution_count": 40,
   "id": "14e2a477",
   "metadata": {},
   "outputs": [],
   "source": [
    "# drop the columns 'NumberOfTime30-59DaysPastDueNotWorse','NumberOfTimes90DaysLate,NumberOfOpenCreditLinesAndLoans'\n",
    "data2 = data.drop(columns='NumberOfTime60-89DaysPastDueNotWorse')\n",
    "data2.head()\n",
    "data2.to_csv('preprocessing\\cs_data2.csv')"
   ]
  },
  {
   "cell_type": "code",
   "execution_count": 41,
   "id": "9535f7c8",
   "metadata": {},
   "outputs": [],
   "source": [
    "# drop the columns 'NumberOfTime30-59DaysPastDueNotWorse','NumberOfTimes90DaysLate,NumberRealEstateLoansOrLines'\n",
    "data3 = data.drop(columns=['NumberRealEstateLoansOrLines','NumberOfTime60-89DaysPastDueNotWorse'])\n",
    "data3.head() \n",
    "data3.to_csv('preprocessing\\cs_data3.csv')"
   ]
  },
  {
   "cell_type": "code",
   "execution_count": 42,
   "id": "ef4de8c4",
   "metadata": {},
   "outputs": [
    {
     "data": {
      "text/plain": [
       "((120269, 11), (120269, 10), (120269, 10), (120269, 9))"
      ]
     },
     "execution_count": 42,
     "metadata": {},
     "output_type": "execute_result"
    }
   ],
   "source": [
    "data.shape, data1.shape, data2.shape, data3.shape  \n"
   ]
  },
  {
   "cell_type": "code",
   "execution_count": null,
   "id": "d04076ca",
   "metadata": {},
   "outputs": [],
   "source": [
    "# data1, data2, data3 을 따로 분리하여 StandardScaling 과 기본 모델로 roc_auc_socre의 점수를 메겨본다. \n",
    "\n",
    "# Data origin remove NA \n",
    "# Val_StandardScaler_roc_auc_Score\n",
    "# knn:0.6999108449752681 | Decisiontree:0.5981121724260852 | RandomForest:0.8389143220379409 | SVC:0.6346719146049915\n",
    "\n",
    "# Data1 remove NA, NumberRealEstateLoansOrLines\n",
    "# Val_StandardScaler_roc_auc_Score\n",
    "# knn:0.7055634214109568 | Decisiontree:0.6085227884570642 | RandomForest:0.8374181642168389 | SVC:0.5989294546664828\n",
    "\n",
    "# Data2 remove NA, NumberOfTime60-89DaysPastDueNotWorse\n",
    "# Val_StandardScaler_roc_auc_score\n",
    "# knn:0.6886573413674218 | Decisiontree:0.5998815513007719 | RandomForest:0.8263761030448962 | SVC:0.6240056002588437\n",
    "\n",
    "# Data3 remove NA, NumberRealEstateLoansOrLines,NumberOfTime60-89DaysPastDueNotWorse\n",
    "# Val_StandardScaler_roc_auc_score <br>\n",
    "# knn:0.6927513756916053 | Decisiontree:0.5998646342350784 | RandomForest:0.8308144100985777 | SVC:0.6484756554235152\n",
    "\n",
    "\n",
    "# roc_auc_socre_val 의 점수가 가장 높은 것은 Data1 그러나 그 차이는 오리지널 Data와 그리 크지 않다. \n",
    "# ==> RamdomForest를 메인 모델로 쓸 예정임으로 RF가 더 높은 Data를 사용하여 모델을 만들겠다.\n",
    "\n",
    "################## 다음 결과에 대한 참고는 문서 1-1,1-2,1-3 확인\n",
    "\n",
    "\n"
   ]
  }
 ],
 "metadata": {
  "kernelspec": {
   "display_name": "Python 3 (ipykernel)",
   "language": "python",
   "name": "python3"
  },
  "language_info": {
   "codemirror_mode": {
    "name": "ipython",
    "version": 3
   },
   "file_extension": ".py",
   "mimetype": "text/x-python",
   "name": "python",
   "nbconvert_exporter": "python",
   "pygments_lexer": "ipython3",
   "version": "3.8.10"
  },
  "toc": {
   "base_numbering": 1,
   "nav_menu": {},
   "number_sections": true,
   "sideBar": true,
   "skip_h1_title": false,
   "title_cell": "Table of Contents",
   "title_sidebar": "Contents",
   "toc_cell": false,
   "toc_position": {},
   "toc_section_display": true,
   "toc_window_display": false
  }
 },
 "nbformat": 4,
 "nbformat_minor": 5
}
