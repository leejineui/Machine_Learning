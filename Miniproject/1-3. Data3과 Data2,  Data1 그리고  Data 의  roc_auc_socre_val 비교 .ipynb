{
 "cells": [
  {
   "cell_type": "markdown",
   "id": "efe9bfb7",
   "metadata": {},
   "source": [
    "## Data3 과 Data2, Data1 그리고 Data의  roc_auc_socre_val 비교 \n",
    "### roc_auc_socre_val 의 점수가 가장 높은 것은 Data1 그러나 그 차이는 Data와 그리 크지 않다. RamdomForest를 메인 모델로 쓸 예정임으로 RF가 더 높은 Data를 사용하여 모델을 만들겠다.\n",
    "\n",
    "   **<Data origin - remove NA>** <P>\n",
    "    - Val_StandardScaler_roc_auc_score <br>\n",
    "    - knn:0.6999108449752681 | Decisiontree:0.5981121724260852 | RandomForest:0.8389143220379409 | SVC:0.6346719146049915\n",
    "\n",
    "\n",
    "   **<Data1 - remove NA, NumberRealEstateLoansOrLines>** <P>\n",
    "    - Val_StandardScaler_roc_auc_score <br>\n",
    "    - knn:0.7055634214109568 | Decisiontree:0.6085227884570642 | RandomForest:0.8374181642168389 | SVC:0.5989294546664828\n",
    "    \n",
    "   **<Data2 - remove NA, NumberOfTime60-89DaysPastDueNotWorse>** <P>\n",
    "    - Val_StandardScaler_roc_auc_score<br>\n",
    "     - knn:0.6886573413674218 | Decisiontree:0.5998815513007719 | RandomForest:0.8263761030448962 | SVC:0.6240056002588437\n",
    "     \n",
    "   **<Data3 - remove NA, NumberRealEstateLoansOrLines,NumberOfTime60-89DaysPastDueNotWorse>** <p>\n",
    "    - Val_StandardScaler_roc_auc_score <br>\n",
    "    - knn:0.6927513756916053 | Decisiontree:0.5998646342350784 | RandomForest:0.8308144100985777 | SVC:0.6484756554235152\n",
    "    \n",
    "    \n",
    "    \n",
    "    \n"
   ]
  },
  {
   "cell_type": "code",
   "execution_count": 1,
   "id": "8bc2e84f",
   "metadata": {},
   "outputs": [],
   "source": [
    "import pandas as pd \n",
    "import numpy as np\n",
    "data3 =pd.read_csv(\"preprocessing\\cs_data3.csv\",\n",
    "                 header=0,\n",
    "                 index_col=0)"
   ]
  },
  {
   "cell_type": "code",
   "execution_count": 2,
   "id": "7de590c6",
   "metadata": {
    "scrolled": true
   },
   "outputs": [
    {
     "data": {
      "text/html": [
       "<div>\n",
       "<style scoped>\n",
       "    .dataframe tbody tr th:only-of-type {\n",
       "        vertical-align: middle;\n",
       "    }\n",
       "\n",
       "    .dataframe tbody tr th {\n",
       "        vertical-align: top;\n",
       "    }\n",
       "\n",
       "    .dataframe thead th {\n",
       "        text-align: right;\n",
       "    }\n",
       "</style>\n",
       "<table border=\"1\" class=\"dataframe\">\n",
       "  <thead>\n",
       "    <tr style=\"text-align: right;\">\n",
       "      <th></th>\n",
       "      <th>SeriousDlqin2yrs</th>\n",
       "      <th>RevolvingUtilizationOfUnsecuredLines</th>\n",
       "      <th>age</th>\n",
       "      <th>NumberOfTime30-59DaysPastDueNotWorse</th>\n",
       "      <th>DebtRatio</th>\n",
       "      <th>MonthlyIncome</th>\n",
       "      <th>NumberOfOpenCreditLinesAndLoans</th>\n",
       "      <th>NumberOfTimes90DaysLate</th>\n",
       "      <th>NumberOfDependents</th>\n",
       "    </tr>\n",
       "  </thead>\n",
       "  <tbody>\n",
       "    <tr>\n",
       "      <th>1</th>\n",
       "      <td>1</td>\n",
       "      <td>0.766127</td>\n",
       "      <td>45</td>\n",
       "      <td>2</td>\n",
       "      <td>0.802982</td>\n",
       "      <td>9120.0</td>\n",
       "      <td>13</td>\n",
       "      <td>0</td>\n",
       "      <td>2.0</td>\n",
       "    </tr>\n",
       "    <tr>\n",
       "      <th>2</th>\n",
       "      <td>0</td>\n",
       "      <td>0.957151</td>\n",
       "      <td>40</td>\n",
       "      <td>0</td>\n",
       "      <td>0.121876</td>\n",
       "      <td>2600.0</td>\n",
       "      <td>4</td>\n",
       "      <td>0</td>\n",
       "      <td>1.0</td>\n",
       "    </tr>\n",
       "    <tr>\n",
       "      <th>3</th>\n",
       "      <td>0</td>\n",
       "      <td>0.658180</td>\n",
       "      <td>38</td>\n",
       "      <td>1</td>\n",
       "      <td>0.085113</td>\n",
       "      <td>3042.0</td>\n",
       "      <td>2</td>\n",
       "      <td>1</td>\n",
       "      <td>0.0</td>\n",
       "    </tr>\n",
       "    <tr>\n",
       "      <th>4</th>\n",
       "      <td>0</td>\n",
       "      <td>0.233810</td>\n",
       "      <td>30</td>\n",
       "      <td>0</td>\n",
       "      <td>0.036050</td>\n",
       "      <td>3300.0</td>\n",
       "      <td>5</td>\n",
       "      <td>0</td>\n",
       "      <td>0.0</td>\n",
       "    </tr>\n",
       "    <tr>\n",
       "      <th>5</th>\n",
       "      <td>0</td>\n",
       "      <td>0.907239</td>\n",
       "      <td>49</td>\n",
       "      <td>1</td>\n",
       "      <td>0.024926</td>\n",
       "      <td>63588.0</td>\n",
       "      <td>7</td>\n",
       "      <td>0</td>\n",
       "      <td>0.0</td>\n",
       "    </tr>\n",
       "  </tbody>\n",
       "</table>\n",
       "</div>"
      ],
      "text/plain": [
       "   SeriousDlqin2yrs  RevolvingUtilizationOfUnsecuredLines  age  \\\n",
       "1                 1                              0.766127   45   \n",
       "2                 0                              0.957151   40   \n",
       "3                 0                              0.658180   38   \n",
       "4                 0                              0.233810   30   \n",
       "5                 0                              0.907239   49   \n",
       "\n",
       "   NumberOfTime30-59DaysPastDueNotWorse  DebtRatio  MonthlyIncome  \\\n",
       "1                                     2   0.802982         9120.0   \n",
       "2                                     0   0.121876         2600.0   \n",
       "3                                     1   0.085113         3042.0   \n",
       "4                                     0   0.036050         3300.0   \n",
       "5                                     1   0.024926        63588.0   \n",
       "\n",
       "   NumberOfOpenCreditLinesAndLoans  NumberOfTimes90DaysLate  \\\n",
       "1                               13                        0   \n",
       "2                                4                        0   \n",
       "3                                2                        1   \n",
       "4                                5                        0   \n",
       "5                                7                        0   \n",
       "\n",
       "   NumberOfDependents  \n",
       "1                 2.0  \n",
       "2                 1.0  \n",
       "3                 0.0  \n",
       "4                 0.0  \n",
       "5                 0.0  "
      ]
     },
     "execution_count": 2,
     "metadata": {},
     "output_type": "execute_result"
    }
   ],
   "source": [
    "data3.head()\n",
    "#SeriousDlqin2yrs/RevolvingUtilizationOfUnsecuredLines/age/NumberOfTime30-59DaysPastDueNotWorse/DebtRatio\n",
    "#MonthlyIncome/NumberOfOpenCreditLinesAndLoans/NumberOfTimes90DaysLate/NumberOfDependents"
   ]
  },
  {
   "cell_type": "code",
   "execution_count": 3,
   "id": "e67f74ae",
   "metadata": {},
   "outputs": [
    {
     "data": {
      "text/plain": [
       "(120269, 9)"
      ]
     },
     "execution_count": 3,
     "metadata": {},
     "output_type": "execute_result"
    }
   ],
   "source": [
    "data3.shape"
   ]
  },
  {
   "cell_type": "code",
   "execution_count": 4,
   "id": "bb1f435d",
   "metadata": {
    "collapsed": true
   },
   "outputs": [
    {
     "name": "stdout",
     "output_type": "stream",
     "text": [
      "SeriousDlqin2yrs                        120269\n",
      "RevolvingUtilizationOfUnsecuredLines    120269\n",
      "age                                     120269\n",
      "NumberOfTime30-59DaysPastDueNotWorse    120269\n",
      "DebtRatio                               120269\n",
      "MonthlyIncome                           120269\n",
      "NumberOfOpenCreditLinesAndLoans         120269\n",
      "NumberOfTimes90DaysLate                 120269\n",
      "NumberOfDependents                      120269\n",
      "dtype: int64\n",
      "SeriousDlqin2yrs                        0\n",
      "RevolvingUtilizationOfUnsecuredLines    0\n",
      "age                                     0\n",
      "NumberOfTime30-59DaysPastDueNotWorse    0\n",
      "DebtRatio                               0\n",
      "MonthlyIncome                           0\n",
      "NumberOfOpenCreditLinesAndLoans         0\n",
      "NumberOfTimes90DaysLate                 0\n",
      "NumberOfDependents                      0\n",
      "dtype: int64\n"
     ]
    }
   ],
   "source": [
    "print(data3.count())\n",
    "print(data3.isnull().sum())"
   ]
  },
  {
   "cell_type": "code",
   "execution_count": 5,
   "id": "775fd068",
   "metadata": {},
   "outputs": [
    {
     "data": {
      "text/plain": [
       "((120269, 8), (120269,))"
      ]
     },
     "execution_count": 5,
     "metadata": {},
     "output_type": "execute_result"
    }
   ],
   "source": [
    "######################### data 로 dataset 구분 \n",
    "X= data3.drop(columns='SeriousDlqin2yrs')\n",
    "y= data3['SeriousDlqin2yrs']\n",
    "X.shape , y.shape"
   ]
  },
  {
   "cell_type": "code",
   "execution_count": 6,
   "id": "97a77a57",
   "metadata": {},
   "outputs": [],
   "source": [
    "# 1.dataset 구분\n",
    "from sklearn.model_selection import train_test_split \n",
    "X_train, X_test, y_train, y_test = train_test_split (X, y, test_size =0.2, stratify=y ,random_state=0) \n",
    "X_train, X_val, y_train, y_val = train_test_split(X_train, y_train, test_size=0.2, stratify=y_train, random_state=0)\n",
    "\n",
    "# 2. scaling\n",
    "from sklearn.preprocessing import StandardScaler\n",
    "sc= StandardScaler()\n",
    "X_train_scaled1=sc.fit_transform(X_train)\n",
    "X_val_scaled1=sc.transform(X_val)\n",
    "X_test_scaled1=sc.transform(X_test)\n"
   ]
  },
  {
   "cell_type": "code",
   "execution_count": 7,
   "id": "d8528c94",
   "metadata": {},
   "outputs": [],
   "source": [
    "# training \n",
    "from sklearn.neighbors import KNeighborsClassifier\n",
    "from sklearn.tree import DecisionTreeClassifier\n",
    "from sklearn.ensemble import RandomForestClassifier\n",
    "from sklearn.svm import SVC\n",
    "from sklearn.metrics import roc_curve, plot_roc_curve, roc_auc_score\n",
    "\n",
    "knn =KNeighborsClassifier()\n",
    "tree=DecisionTreeClassifier(random_state=0)\n",
    "rf=RandomForestClassifier(random_state=0)\n",
    "svc= SVC(random_state=0, probability =True)"
   ]
  },
  {
   "cell_type": "code",
   "execution_count": 8,
   "id": "41d8e0b9",
   "metadata": {},
   "outputs": [
    {
     "data": {
      "text/plain": [
       "SVC(probability=True, random_state=0)"
      ]
     },
     "execution_count": 8,
     "metadata": {},
     "output_type": "execute_result"
    }
   ],
   "source": [
    "knn.fit(X_train_scaled1,y_train)\n",
    "tree.fit(X_train_scaled1,y_train)\n",
    "rf.fit(X_train_scaled1,y_train)\n",
    "svc.fit(X_train_scaled1,y_train)"
   ]
  },
  {
   "cell_type": "code",
   "execution_count": 9,
   "id": "a08fb37c",
   "metadata": {},
   "outputs": [],
   "source": [
    "# val_scaled1 proba\n",
    "prob_knn_val=knn.predict_proba(X_val_scaled1)[:,1]\n",
    "prob_tree_val= tree.predict_proba(X_val_scaled1)[:,1]\n",
    "prob_rf_val=rf.predict_proba(X_val_scaled1)[:,1]\n",
    "prob_svc_val=svc.predict_proba(X_val_scaled1)[:,1]"
   ]
  },
  {
   "cell_type": "code",
   "execution_count": 10,
   "id": "ac87667e",
   "metadata": {},
   "outputs": [
    {
     "name": "stdout",
     "output_type": "stream",
     "text": [
      "Val_StandardScaler_roc_auc_Score\n",
      "knn:0.6927513756916053 | Decisiontree:0.5998646342350784 | RandomForest:0.8308144100985777 | SVC:0.6484756554235152\n"
     ]
    }
   ],
   "source": [
    "print(\"Val_StandardScaler_roc_auc_Score\")\n",
    "print(\"knn:{} | Decisiontree:{} | RandomForest:{} | SVC:{}\".format(roc_auc_score(y_val, prob_knn_val),roc_auc_score(y_val,prob_tree_val),roc_auc_score(y_val,prob_rf_val),roc_auc_score(y_val, prob_svc_val)))"
   ]
  },
  {
   "cell_type": "code",
   "execution_count": 11,
   "id": "2fa3988c",
   "metadata": {},
   "outputs": [],
   "source": [
    "# Data origin remove NA \n",
    "# Val_StandardScaler_roc_auc_Score\n",
    "# knn:0.6999108449752681 | Decisiontree:0.5981121724260852 | RandomForest:0.8389143220379409 | SVC:0.6346719146049915\n",
    "\n",
    "# Data1 remove NA, NumberRealEstateLoansOrLines\n",
    "# Val_StandardScaler_roc_auc_Score\n",
    "# knn:0.7055634214109568 | Decisiontree:0.6085227884570642 | RandomForest:0.8374181642168389 | SVC:0.5989294546664828\n",
    "\n",
    "# Data2 remove NA, NumberOfTime60-89DaysPastDueNotWorse\n",
    "# Val_StandardScaler_roc_auc_score\n",
    "# knn:0.6886573413674218 | Decisiontree:0.5998815513007719 | RandomForest:0.8263761030448962 | SVC:0.6240056002588437\n",
    "\n",
    "# Data3 remove NA, NumberRealEstateLoansOrLines,NumberOfTime60-89DaysPastDueNotWorse\n",
    "# Val_StandardScaler_roc_auc_score <br>\n",
    "# knn:0.6927513756916053 | Decisiontree:0.5998646342350784 | RandomForest:0.8308144100985777 | SVC:0.6484756554235152"
   ]
  },
  {
   "cell_type": "code",
   "execution_count": null,
   "id": "14d0ce69",
   "metadata": {},
   "outputs": [],
   "source": []
  }
 ],
 "metadata": {
  "kernelspec": {
   "display_name": "Python 3 (ipykernel)",
   "language": "python",
   "name": "python3"
  },
  "language_info": {
   "codemirror_mode": {
    "name": "ipython",
    "version": 3
   },
   "file_extension": ".py",
   "mimetype": "text/x-python",
   "name": "python",
   "nbconvert_exporter": "python",
   "pygments_lexer": "ipython3",
   "version": "3.8.10"
  },
  "toc": {
   "base_numbering": 1,
   "nav_menu": {},
   "number_sections": true,
   "sideBar": true,
   "skip_h1_title": false,
   "title_cell": "Table of Contents",
   "title_sidebar": "Contents",
   "toc_cell": false,
   "toc_position": {},
   "toc_section_display": true,
   "toc_window_display": false
  }
 },
 "nbformat": 4,
 "nbformat_minor": 5
}
