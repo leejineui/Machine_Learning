{
 "cells": [
  {
   "cell_type": "code",
   "execution_count": 1,
   "id": "20f5c698",
   "metadata": {},
   "outputs": [],
   "source": [
    "import pandas as pd \n",
    "import numpy as np\n",
    "data1 =pd.read_csv(\"preprocessing\\cs_data1.csv\",\n",
    "                 header=0,\n",
    "                 index_col=0)\n",
    "\n",
    "# drop the columns 'NumberOfTime30-59DaysPastDueNotWorse','NumberOfTimes90DaysLate'"
   ]
  },
  {
   "cell_type": "code",
   "execution_count": 2,
   "id": "26cf592f",
   "metadata": {
    "scrolled": true
   },
   "outputs": [
    {
     "data": {
      "text/html": [
       "<div>\n",
       "<style scoped>\n",
       "    .dataframe tbody tr th:only-of-type {\n",
       "        vertical-align: middle;\n",
       "    }\n",
       "\n",
       "    .dataframe tbody tr th {\n",
       "        vertical-align: top;\n",
       "    }\n",
       "\n",
       "    .dataframe thead th {\n",
       "        text-align: right;\n",
       "    }\n",
       "</style>\n",
       "<table border=\"1\" class=\"dataframe\">\n",
       "  <thead>\n",
       "    <tr style=\"text-align: right;\">\n",
       "      <th></th>\n",
       "      <th>SeriousDlqin2yrs</th>\n",
       "      <th>RevolvingUtilizationOfUnsecuredLines</th>\n",
       "      <th>age</th>\n",
       "      <th>DebtRatio</th>\n",
       "      <th>MonthlyIncome</th>\n",
       "      <th>NumberOfOpenCreditLinesAndLoans</th>\n",
       "      <th>NumberRealEstateLoansOrLines</th>\n",
       "      <th>NumberOfTime60-89DaysPastDueNotWorse</th>\n",
       "      <th>NumberOfDependents</th>\n",
       "    </tr>\n",
       "  </thead>\n",
       "  <tbody>\n",
       "    <tr>\n",
       "      <th>1</th>\n",
       "      <td>1</td>\n",
       "      <td>0.766127</td>\n",
       "      <td>45</td>\n",
       "      <td>0.802982</td>\n",
       "      <td>9120.0</td>\n",
       "      <td>13</td>\n",
       "      <td>6</td>\n",
       "      <td>0</td>\n",
       "      <td>2.0</td>\n",
       "    </tr>\n",
       "    <tr>\n",
       "      <th>2</th>\n",
       "      <td>0</td>\n",
       "      <td>0.957151</td>\n",
       "      <td>40</td>\n",
       "      <td>0.121876</td>\n",
       "      <td>2600.0</td>\n",
       "      <td>4</td>\n",
       "      <td>0</td>\n",
       "      <td>0</td>\n",
       "      <td>1.0</td>\n",
       "    </tr>\n",
       "    <tr>\n",
       "      <th>3</th>\n",
       "      <td>0</td>\n",
       "      <td>0.658180</td>\n",
       "      <td>38</td>\n",
       "      <td>0.085113</td>\n",
       "      <td>3042.0</td>\n",
       "      <td>2</td>\n",
       "      <td>0</td>\n",
       "      <td>0</td>\n",
       "      <td>0.0</td>\n",
       "    </tr>\n",
       "    <tr>\n",
       "      <th>4</th>\n",
       "      <td>0</td>\n",
       "      <td>0.233810</td>\n",
       "      <td>30</td>\n",
       "      <td>0.036050</td>\n",
       "      <td>3300.0</td>\n",
       "      <td>5</td>\n",
       "      <td>0</td>\n",
       "      <td>0</td>\n",
       "      <td>0.0</td>\n",
       "    </tr>\n",
       "    <tr>\n",
       "      <th>5</th>\n",
       "      <td>0</td>\n",
       "      <td>0.907239</td>\n",
       "      <td>49</td>\n",
       "      <td>0.024926</td>\n",
       "      <td>63588.0</td>\n",
       "      <td>7</td>\n",
       "      <td>1</td>\n",
       "      <td>0</td>\n",
       "      <td>0.0</td>\n",
       "    </tr>\n",
       "  </tbody>\n",
       "</table>\n",
       "</div>"
      ],
      "text/plain": [
       "   SeriousDlqin2yrs  RevolvingUtilizationOfUnsecuredLines  age  DebtRatio  \\\n",
       "1                 1                              0.766127   45   0.802982   \n",
       "2                 0                              0.957151   40   0.121876   \n",
       "3                 0                              0.658180   38   0.085113   \n",
       "4                 0                              0.233810   30   0.036050   \n",
       "5                 0                              0.907239   49   0.024926   \n",
       "\n",
       "   MonthlyIncome  NumberOfOpenCreditLinesAndLoans  \\\n",
       "1         9120.0                               13   \n",
       "2         2600.0                                4   \n",
       "3         3042.0                                2   \n",
       "4         3300.0                                5   \n",
       "5        63588.0                                7   \n",
       "\n",
       "   NumberRealEstateLoansOrLines  NumberOfTime60-89DaysPastDueNotWorse  \\\n",
       "1                             6                                     0   \n",
       "2                             0                                     0   \n",
       "3                             0                                     0   \n",
       "4                             0                                     0   \n",
       "5                             1                                     0   \n",
       "\n",
       "   NumberOfDependents  \n",
       "1                 2.0  \n",
       "2                 1.0  \n",
       "3                 0.0  \n",
       "4                 0.0  \n",
       "5                 0.0  "
      ]
     },
     "execution_count": 2,
     "metadata": {},
     "output_type": "execute_result"
    }
   ],
   "source": [
    "data1.head()\n",
    "#SeriousDlqin2yrs / RevolvingUtilizationOfUnsecuredLines /age /\n",
    "#DebtRatio/MonthlyIncome/NumberOfOpenCreditLinesAndLoans/NumberRealEstateLoansOrLines/\n",
    "#NumberOfTime60-89DaysPastDueNotWorse/NumberOfDependents\n"
   ]
  },
  {
   "cell_type": "code",
   "execution_count": 3,
   "id": "13ae5afd",
   "metadata": {},
   "outputs": [
    {
     "data": {
      "text/plain": [
       "(120269, 9)"
      ]
     },
     "execution_count": 3,
     "metadata": {},
     "output_type": "execute_result"
    }
   ],
   "source": [
    "data1.shape\n"
   ]
  },
  {
   "cell_type": "code",
   "execution_count": 4,
   "id": "8c270cc1",
   "metadata": {
    "collapsed": true
   },
   "outputs": [
    {
     "name": "stdout",
     "output_type": "stream",
     "text": [
      "SeriousDlqin2yrs                        120269\n",
      "RevolvingUtilizationOfUnsecuredLines    120269\n",
      "age                                     120269\n",
      "DebtRatio                               120269\n",
      "MonthlyIncome                           120269\n",
      "NumberOfOpenCreditLinesAndLoans         120269\n",
      "NumberRealEstateLoansOrLines            120269\n",
      "NumberOfTime60-89DaysPastDueNotWorse    120269\n",
      "NumberOfDependents                      120269\n",
      "dtype: int64\n",
      "SeriousDlqin2yrs                        0\n",
      "RevolvingUtilizationOfUnsecuredLines    0\n",
      "age                                     0\n",
      "DebtRatio                               0\n",
      "MonthlyIncome                           0\n",
      "NumberOfOpenCreditLinesAndLoans         0\n",
      "NumberRealEstateLoansOrLines            0\n",
      "NumberOfTime60-89DaysPastDueNotWorse    0\n",
      "NumberOfDependents                      0\n",
      "dtype: int64\n"
     ]
    }
   ],
   "source": [
    "print(data1.count())\n",
    "print(data1.isnull().sum())"
   ]
  },
  {
   "cell_type": "code",
   "execution_count": 6,
   "id": "4b49620a",
   "metadata": {},
   "outputs": [
    {
     "data": {
      "text/plain": [
       "((120269, 8), (120269,))"
      ]
     },
     "execution_count": 6,
     "metadata": {},
     "output_type": "execute_result"
    }
   ],
   "source": [
    "######################### data 로 dataset 구분 \n",
    "X= data1.drop(columns='SeriousDlqin2yrs')\n",
    "y= data1['SeriousDlqin2yrs']\n",
    "X.shape , y.shape"
   ]
  },
  {
   "cell_type": "code",
   "execution_count": 7,
   "id": "f1ae9f7e",
   "metadata": {},
   "outputs": [],
   "source": [
    "# 1.dataset 구분\n",
    "from sklearn.model_selection import train_test_split \n",
    "X_train, X_test, y_train, y_test = train_test_split (X, y, test_size =0.2, stratify=y ,random_state=0) \n",
    "X_train, X_val, y_train, y_val = train_test_split(X_train, y_train, test_size=0.2, stratify=y_train, random_state=0)\n",
    "\n",
    "# 2. scaling\n",
    "from sklearn.preprocessing import StandardScaler\n",
    "sc= StandardScaler()\n",
    "X_train_scaled1=sc.fit_transform(X_train)\n",
    "X_val_scaled1=sc.transform(X_val)\n",
    "X_test_scaled1=sc.transform(X_test)\n"
   ]
  },
  {
   "cell_type": "code",
   "execution_count": 8,
   "id": "fcea2ea6",
   "metadata": {},
   "outputs": [],
   "source": [
    "# training \n",
    "from sklearn.neighbors import KNeighborsClassifier\n",
    "from sklearn.tree import DecisionTreeClassifier\n",
    "from sklearn.ensemble import RandomForestClassifier\n",
    "from sklearn.svm import SVC\n",
    "from sklearn.metrics import roc_curve, plot_roc_curve, roc_auc_score\n",
    "\n",
    "knn =KNeighborsClassifier()\n",
    "tree=DecisionTreeClassifier(random_state=0)\n",
    "rf=RandomForestClassifier(random_state=0)\n",
    "svc= SVC(random_state=0, probability =True)"
   ]
  },
  {
   "cell_type": "code",
   "execution_count": 9,
   "id": "e3d1442a",
   "metadata": {},
   "outputs": [
    {
     "data": {
      "text/plain": [
       "SVC(probability=True, random_state=0)"
      ]
     },
     "execution_count": 9,
     "metadata": {},
     "output_type": "execute_result"
    }
   ],
   "source": [
    "knn.fit(X_train_scaled1,y_train)\n",
    "tree.fit(X_train_scaled1,y_train)\n",
    "rf.fit(X_train_scaled1,y_train)\n",
    "svc.fit(X_train_scaled1,y_train)"
   ]
  },
  {
   "cell_type": "code",
   "execution_count": 11,
   "id": "34f0f0cb",
   "metadata": {},
   "outputs": [],
   "source": [
    "# val_scaled1 proba\n",
    "prob_knn_val=knn.predict_proba(X_val_scaled1)[:,1]\n",
    "prob_tree_val= tree.predict_proba(X_val_scaled1)[:,1]\n",
    "prob_rf_val=rf.predict_proba(X_val_scaled1)[:,1]\n",
    "prob_svc_val=svc.predict_proba(X_val_scaled1)[:,1]"
   ]
  },
  {
   "cell_type": "code",
   "execution_count": 12,
   "id": "02f89158",
   "metadata": {},
   "outputs": [
    {
     "data": {
      "text/plain": [
       "(0.615175685606902, 0.5801697236987874, 0.7962379536916839, 0.6082772821518441)"
      ]
     },
     "execution_count": 12,
     "metadata": {},
     "output_type": "execute_result"
    }
   ],
   "source": [
    "roc_auc_score(y_val, prob_knn_val), roc_auc_score(y_val,prob_tree_val), roc_auc_score(y_val,prob_rf_val), roc_auc_score(y_val, prob_svc_val)"
   ]
  },
  {
   "cell_type": "code",
   "execution_count": null,
   "id": "9b88bfb5",
   "metadata": {},
   "outputs": [],
   "source": []
  }
 ],
 "metadata": {
  "kernelspec": {
   "display_name": "Python 3 (ipykernel)",
   "language": "python",
   "name": "python3"
  },
  "language_info": {
   "codemirror_mode": {
    "name": "ipython",
    "version": 3
   },
   "file_extension": ".py",
   "mimetype": "text/x-python",
   "name": "python",
   "nbconvert_exporter": "python",
   "pygments_lexer": "ipython3",
   "version": "3.8.10"
  },
  "toc": {
   "base_numbering": 1,
   "nav_menu": {},
   "number_sections": true,
   "sideBar": true,
   "skip_h1_title": false,
   "title_cell": "Table of Contents",
   "title_sidebar": "Contents",
   "toc_cell": false,
   "toc_position": {},
   "toc_section_display": true,
   "toc_window_display": false
  }
 },
 "nbformat": 4,
 "nbformat_minor": 5
}
