{
 "cells": [
  {
   "cell_type": "markdown",
   "metadata": {
    "deletable": true,
    "editable": true,
    "slideshow": {
     "slide_type": "slide"
    }
   },
   "source": [
    "# 인공지능 개요"
   ]
  },
  {
   "cell_type": "markdown",
   "metadata": {
    "deletable": true,
    "editable": true,
    "slideshow": {
     "slide_type": "slide"
    }
   },
   "source": [
    "## 인공지능 (AI - Artificial Intelligence) 이란\n",
    "\n",
    "### 정의\n",
    "- 다트머스대학 수학과 교수인 존 매카시(John McCarthy)가 \"지능이 있는 기계를 만들기 위한 과학과 공학\" 이란 논문에서 처음으로 제안(1955년)\n",
    "- 인간의 지능(인지, 추론, 학습 등)을 컴퓨터나 시스템 등으로 만든 것 또는, 만들 수 있는 방법론이나 실현 가능성 등을 연구하는 기술 또는 과학\n",
    "    \n",
    "![image.png](attachment:image.png)\n",
    "    \n",
    "> - 지능: 어떤 문제를 해결하기 위한 지적 활동 능력\n",
    "> - 인공지능 : 사람이 할 일을 기계가 하는 것 e.g) 컨베이어 벨트, 계산기 \n",
    ">      - 기계가 사람의 지능을 모방하게 하는 기술\n",
    ">      - 규칙기반, 데이터 학습 기반  \n",
    ">            - 규칙기반:규칙을 아는 사람들에게 물어 봐서 계속 업데이트를 해야 한다.\n",
    ">            - 데이터 학습 기반 : 만드는 작업 자체도 사람의 손을 좀 덜 가게 하겠다. 데이터를 기반으로 하겠다.  "
   ]
  },
  {
   "cell_type": "markdown",
   "metadata": {
    "deletable": true,
    "editable": true
   },
   "source": [
    "### 튜링 테스트(Turing Test)\n",
    "- 1950년대 앨런 튜링(Alan Turing)이 제안한 인공지능 여부를 테스트 하는 방법\n",
    "- 테스트 하는 사람이 컴퓨터 화면으로 사람과 기계와 각각 대화를 한 뒤 어느쪽이 사람인지 기계인지 구분할 수 없으면 인간수준의 사고를 가진것으로 판명하는 방법\n",
    "- 1991년 부터 튜링테스트를 기반으로 가장 뛰어난 챗봇에게 시상하는 [뢰브너 상](https://ko.wikipedia.org/wiki/%EB%A2%B0%EB%B8%8C%EB%84%88_%EC%83%81)이 제정됨\n",
    "\n",
    "<br>\n",
    "\n",
    "![image.png](attachment:image.png)"
   ]
  },
  {
   "cell_type": "markdown",
   "metadata": {
    "deletable": true,
    "editable": true
   },
   "source": [
    "## [중국어 방( Chinese room)의 역설](https://ko.wikipedia.org/wiki/%EC%A4%91%EA%B5%AD%EC%96%B4_%EB%B0%A9)\n",
    "- 철학자 존 설(John Seale)이  튜링 테스트로 기계의 인공지능 여부를 판정할 수 없다는 것을 논증하기 위해 고안한 사고 실험 (1980년)\n",
    "![image.png](attachment:image.png)\n",
    "- 안다’는 것과 지능에 대한 심오한 문제\n",
    "- 단순한 답변 목록조차도 진정한 지능을 가진 것처럼 보일 수 있다는 의미"
   ]
  },
  {
   "cell_type": "markdown",
   "metadata": {
    "deletable": true,
    "editable": true
   },
   "source": [
    "## Strong AI vs Week AI\n",
    "- **Artificial General Intelligence (AGI)**\n",
    "    - 인간이 할 수 있는 모든 지적인 업무를 해낼 수 있는 (가상적인) 기계의 지능을 말한다. 인공지능 연구의 주요 목표.\n",
    "- **Strong AI (강 인공지능)**\n",
    "    - AGI 성능을 가지는 인공지능\n",
    "    - 인공지능 연구가 목표하는 방향.\n",
    "    \n",
    "- **Week AI (약 인공지능)**\n",
    "    - 기존에 인간은 쉽게 해결할 수 있었지만 컴퓨터로 처리하기 어려웠던 일을 컴퓨터가 수행할 수 있도록 하는 것이 목적.\n",
    "    - 지각(知覺)을 가지고 있지 않으며 특정한 업무를 처리하는데 집중한다."
   ]
  },
  {
   "cell_type": "markdown",
   "metadata": {
    "deletable": true,
    "editable": true
   },
   "source": [
    "![image.png](attachment:image.png)"
   ]
  },
  {
   "cell_type": "markdown",
   "metadata": {
    "deletable": true,
    "editable": true
   },
   "source": [
    "### 인공지능의 발전을 가능하게 만든 세가지 요소\n",
    "- 데이터의 급격한 증가\n",
    "    - 디지털사진, 동영상, IoT 기기, SNS 컨텐츠 등으로 인해 데이터가 폭발적으로 증가 \n",
    "    - 전 세계 디지털데이터의 90%가 최근 2년 동안 생성 \n",
    "- 알고리즘의 발전\n",
    "    - 급증한 데이터를 이용한 기존 알고리즘 개선 및 새로운 알고리즘들이 개발됨.\n",
    "- 컴퓨터 하드웨어의 발전\n",
    "    - CPU와 GPU의 발전. \n",
    "    - 특히 GPU의 발전은 딥러닝의 발전으로 이어짐.\n",
    "    - TPU(Tensor Processing Unit): 구글에서 개발한 딥러닝 전용 칩셋"
   ]
  },
  {
   "cell_type": "markdown",
   "metadata": {
    "deletable": true,
    "editable": true
   },
   "source": [
    "## 머신러닝과 딥러닝"
   ]
  },
  {
   "cell_type": "markdown",
   "metadata": {
    "deletable": true,
    "editable": true,
    "slideshow": {
     "slide_type": "slide"
    }
   },
   "source": [
    "![image.png](attachment:image.png)\n",
    "<center>출처: [nvida 블로그](https://blogs.nvidia.co.kr/2016/08/03/difference_ai_learning_machinelearning/)</center>"
   ]
  },
  {
   "cell_type": "markdown",
   "metadata": {
    "deletable": true,
    "editable": true,
    "slideshow": {
     "slide_type": "slide"
    }
   },
   "source": [
    "### 머신러닝(Machine Learning)\n",
    "> - 데이터 학습 기반의 인공 지능 분야\n",
    "> - 기계에게 어떻게 동작할지 일일이 코드로 명시하지 않고 데이터를 이용해 학습할 수 있도록 하는 알고리즘과 기술을 개발하는 인공지능의 한분야"
   ]
  },
  {
   "cell_type": "markdown",
   "metadata": {
    "deletable": true,
    "editable": true,
    "slideshow": {
     "slide_type": "slide"
    }
   },
   "source": [
    "### 딥러닝 (Deep Learning)\n",
    "> - 인공신경망 알고리즘을 기반으로 하는 머신러닝의 한 분야. 대용량 데이터 학습에 뛰어난 성능을 나타낸다. "
   ]
  },
  {
   "cell_type": "markdown",
   "metadata": {
    "deletable": true,
    "editable": true,
    "slideshow": {
     "slide_type": "slide"
    }
   },
   "source": [
    "![image.png](attachment:image.png)"
   ]
  },
  {
   "cell_type": "markdown",
   "metadata": {
    "deletable": true,
    "editable": true
   },
   "source": [
    "## 머신러닝 모델(알고리즘, 모형)\n",
    "- 모델이란 데이터의 패턴을 수식화 한 함수를 말한다.\n",
    "    - 그러나 처음에는 방대한 데이터의 패턴을 알 수 없기 때문에 \"이 데이터는 이런 패턴을 가졌을 것\"이라고 가정한 함수를 정한뒤 데이터를 학습시켜 데이터 패턴을 잘 표현하는 함수를 만든다.\n",
    "\n",
    "    \n",
    "### 모델을 만드는 과정\n",
    "1. 모델을 정하여 수식화 한다. \n",
    "2. 모델을 데이터를 이용해 학습(Train) 시킨다. \n",
    "    - 모델을 데이터의 패턴에 맞춘다. (fit)\n",
    "3. 학습된 모델이 얼마나 데이터 패턴을 잘 표현하는지 평가한다.(Test)"
   ]
  },
  {
   "cell_type": "markdown",
   "metadata": {
    "deletable": true,
    "editable": true,
    "slideshow": {
     "slide_type": "slide"
    }
   },
   "source": [
    "![image.png](attachment:image.png)\n",
    "<p>\n",
    "\n",
    "<center><font size=5><b> 머신러닝이란 데이터의 패턴을 찾는 함수를 만드는 것</b></font></center>"
   ]
  },
  {
   "cell_type": "markdown",
   "metadata": {
    "deletable": true,
    "editable": true
   },
   "source": [
    "## 데이터 Feature와 Label\n",
    "### Feature\n",
    "- 예측 하거나 분류해야 하는 데이터의 특성, 속성 값\n",
    "- 입력 변수(Input), 독립변수라고도 한다.\n",
    "- 일반적으로 X로 표현한다.\n",
    "\n",
    "### Label\n",
    "- 예측하거나 분류해야 하는 값\n",
    "- 출력 변수(Output), 종속변수라고도 한다.\n",
    "- 일반적으로 y로 표현한다."
   ]
  },
  {
   "cell_type": "markdown",
   "metadata": {
    "deletable": true,
    "editable": true,
    "slideshow": {
     "slide_type": "slide"
    }
   },
   "source": [
    "# 머신러닝 알고리즘 분류\n",
    "\n",
    "## 지도학습(Supervised Learning)\n",
    "- 모델에게 데이터의 특징(Feature)와 정답(Label)을 알려주며 학습시킨다.\n",
    "- 대부분의 머신러닝은 지도학습이다.\n",
    "- ### 분류(Classification):\n",
    "    - 두개 이상의 클래스(범주)에서 선택을 묻는 지도 학습방법\n",
    "        - 이진 분류 : 분류 대상 클래스가 2개\n",
    "        - 다중 분류 : 분류 대상 클래스가 여러개\n",
    "    - 의사결정트리(Decision Tree)\n",
    "    - 로지스틱 회귀(Logistic Regression)\n",
    "    - K-최근접 이웃(K-Nearest Neighbors, KNN)\n",
    "    - 나이브 베이즈(Naive Bayes)\n",
    "    - 서포트 벡터 머신(Support Vector Machine, SVM)\n",
    "    - 랜덤 포레스트(Random Forest)\n",
    "    - 신경망(Neural Network)\n",
    "- ### 회귀(Regression):\n",
    "    - 숫자(연속된값)를 예측 하는 지도학습\n",
    "    - 의사결정트리(Decision Tree)\n",
    "    - 선형 회귀(Linear Regression)\n",
    "    - 릿지 회귀(Rige Regression)\n",
    "    - 라쏘 회귀(Lasso Regression)\n",
    "    - 엘라스틱 넷(Elastic Net)\n",
    "    - K-최근접 이웃(K-Nearest Neighbors, KNN)\n",
    "    - 나이브 베이즈(Naive Bayes)\n",
    "    - 서포트 벡터 머신(Support Vector Machine, SVM)\n",
    "    - 랜덤 포레스트(Random Forest)\n",
    "    - 신경망(Neural Network)"
   ]
  },
  {
   "cell_type": "markdown",
   "metadata": {
    "deletable": true,
    "editable": true,
    "slideshow": {
     "slide_type": "fragment"
    }
   },
   "source": [
    "### 비지도학습 (Unsupervised Learning)\n",
    "- 정답이 없이 데이터의 특징만 학습하여 데이터간의 관계를 찾는 학습방법\n",
    "- **군집(Clustering)**\n",
    "    - 비슷한 유형의 데이터 그룹을 찾는다. 주로 데이터 경향성을 파악하는 비지도 학습\n",
    "    - K-평균 클러스터링(K-Means Clustering)\n",
    "    - 평균점 이동 클러스터링(Mean-Shift Clustering) \n",
    "    - DBSCAN(DensityBased Spatial Clustering of Applications with Noise)\n",
    "- **차원축소(Dimensionality Reduction)**\n",
    "    - 예측에 영향을 최대한 주지 않으면서 변수(Feature)를 축소하는 한다.\n",
    "    - 고차원 데이터를 저차원의 데이터로 변환하는 비지도 학습\n",
    "    - 주성분 분석(Principal Component Analysis, PCA)\n",
    "    "
   ]
  },
  {
   "cell_type": "markdown",
   "metadata": {
    "deletable": true,
    "editable": true,
    "slideshow": {
     "slide_type": "fragment"
    }
   },
   "source": [
    "- ### 강화학습\n",
    "    - 학습하는 시스템이 행동을 실행하고 그 결과에 따른 보상이나 벌점을 받는 방식으로 학습. 학습이 계속되면서 가장 큰 보상을 얻기 위한 최상의 전략을 스스로 학습하게 한다."
   ]
  },
  {
   "cell_type": "markdown",
   "metadata": {
    "deletable": true,
    "editable": true,
    "slideshow": {
     "slide_type": "slide"
    }
   },
   "source": [
    "![sckit-lean](https://scikit-learn.org/stable/_static/ml_map.png)\n",
    "<center>출처: sckit-lean docs(https://scikit-learn.org/stable/tutorial/machine_learning_map/index.html)</center>"
   ]
  },
  {
   "cell_type": "markdown",
   "metadata": {
    "deletable": true,
    "editable": true,
    "slideshow": {
     "slide_type": "slide"
    }
   },
   "source": [
    "# 머신러닝 개발 절차 (Machine Learning Process)\n",
    "\n",
    "<img align=\"left\" src=\"http://www.kdnuggets.com/wp-content/uploads/crisp-dm-4-problems-fig1.png\" alt=\"CRISP-DM\">\n"
   ]
  },
  {
   "cell_type": "markdown",
   "metadata": {
    "ExecuteTime": {
     "end_time": "2019-08-19T12:13:58.377473Z",
     "start_time": "2019-08-19T12:13:58.371453Z"
    },
    "deletable": true,
    "editable": true,
    "slideshow": {
     "slide_type": "slide"
    }
   },
   "source": [
    "1. Business Understanding\n",
    "    - 머신러닝 개발을 통해 얻고자 하는 것 파악.\n",
    "2. Data Understanding\n",
    "    - 데이터 수집\n",
    "    - 탐색을 통해 데이터 파악\n",
    "3. Data Preparation  \n",
    "    - 데이터 전처리\n",
    "4. Modeling\n",
    "    - 머신러닝 모델 선정\n",
    "    - 모델 학습\n",
    "5. Evaluation\n",
    "    - 모델 평가\n",
    "    - 평가 결과에 따라 위 프로세스 반복\n",
    "6. Deployment\n",
    "    - 평가 결과가 좋으면 실제 업무에 적용"
   ]
  },
  {
   "cell_type": "markdown",
   "metadata": {
    "deletable": true,
    "editable": true,
    "slideshow": {
     "slide_type": "slide"
    }
   },
   "source": [
    "# 파이썬 머신러닝,딥러닝 패키지\n",
    "- ### Scikit-learn\n",
    "    - 딥러닝을 제외한 머신러닝 주요 알고리즘 제공\n",
    "- ### Tensorflow\n",
    "    - 구글 브레인 팀이 개발한 텐서플로우는 머신러닝 및 딥러닝 위한 오픈소스 라이브러리다.\n",
    "- ### Keras\n",
    "    - 딥러닝 모델을 쉽게 만들 수 있도록 다양한 딥러닝 플랫폼 위에서 실행되는 고수준 딥러닝 패키지.\n",
    "    - Tensorflow 2.0 부터 keras를 포함하고 있다.\n",
    "- ### Pytorch\n",
    "    - 토치(Torch) 및 카페2(Caffe2) 프레임워크를 기반으로한 페이스북에서 만든 딥러닝 프레임워크"
   ]
  },
  {
   "cell_type": "markdown",
   "metadata": {
    "deletable": true,
    "editable": true,
    "slideshow": {
     "slide_type": "slide"
    }
   },
   "source": [
    "# [사이킷런(scikit-learn)](https://scikit-learn.org/stable)\n",
    "파이썬 머신러닝 라이브러리가 가장 많이 사용된다. 딥러닝을 제외한 대부분의 머신러닝 알고리즘을 제공한다.\n"
   ]
  },
  {
   "cell_type": "markdown",
   "metadata": {
    "deletable": true,
    "editable": true,
    "slideshow": {
     "slide_type": "fragment"
    }
   },
   "source": [
    "## 사이킷런의 특징\n",
    "1. 파이썬 기반 다른 머신러닝 라이브러리가 사이킷런 스타일의 API를 지향할 정도로 쉽고 가장 파이썬스런 API 제공\n",
    "2. 머신러닝 관련 다양한 알고리즘을 제공하며 모든 알고리즘에 일관성있는 사용법을 제공한다."
   ]
  },
  {
   "cell_type": "markdown",
   "metadata": {
    "deletable": true,
    "editable": true,
    "slideshow": {
     "slide_type": "fragment"
    }
   },
   "source": [
    "## scikit-learn(사이킷런) 설치\n",
    "- `conda install scikit-learn`\n",
    "- `pip install scikit-learn`\n",
    "- 아나콘다는 내장되 있다."
   ]
  },
  {
   "cell_type": "markdown",
   "metadata": {
    "deletable": true,
    "editable": true,
    "slideshow": {
     "slide_type": "slide"
    }
   },
   "source": [
    "## Estimator와 Transformer\n",
    "- ### Estimator (추정기)\n",
    "    - 데이터를 학습하고 예측하는 알고리즘(모델)들을 구현한 클래스들\n",
    "    - fit() \n",
    "        - 데이터를 학습하는 메소드\n",
    "    - predict()\n",
    "        - 예측을 하는 메소드"
   ]
  },
  {
   "cell_type": "markdown",
   "metadata": {
    "deletable": true,
    "editable": true,
    "slideshow": {
     "slide_type": "fragment"
    }
   },
   "source": [
    "- ### Transformer (변환기)\n",
    "    - 데이터 전처리를 하는 클래스들. 데이터 셋의 값의 형태를 변환한다.\n",
    "    - fit()\n",
    "        - 어떻게 변환할지 학습하는 메소드\n",
    "    - transform()\n",
    "        - 변환처리 하는 메소드\n",
    "    - fit_transform()\n",
    "        - fit()과 transform()을 같이 처리하는 메소드"
   ]
  },
  {
   "cell_type": "markdown",
   "metadata": {
    "deletable": true,
    "editable": true,
    "slideshow": {
     "slide_type": "slide"
    }
   },
   "source": [
    "## 사이킷런 주요모듈\n",
    "\n",
    "![image.png](attachment:image.png)"
   ]
  },
  {
   "cell_type": "markdown",
   "metadata": {
    "deletable": true,
    "editable": true,
    "slideshow": {
     "slide_type": "slide"
    }
   },
   "source": [
    "# scikit-learn 개발 패턴\n",
    "1. ### 데이터 분할\n",
    "    - 데이터셋을 모델을 학습시키기 위한 데이터셋(훈련 데이터)와 모델의 성능을 테스트하기 위한 데이터셋(테스트 데이터)으로 분리한다."
   ]
  },
  {
   "cell_type": "markdown",
   "metadata": {
    "deletable": true,
    "editable": true,
    "slideshow": {
     "slide_type": "subslide"
    }
   },
   "source": [
    "2. ### 모델 생성\n",
    "    - 예측 목적에 맞는 모델생성\n",
    "    - 하이퍼파라미터 설정\n",
    "        - 하이퍼파라미터 : 학습에 의해 찾는 값이 아닌 개발자가 직접 설정해야 하는 파라미터"
   ]
  },
  {
   "cell_type": "markdown",
   "metadata": {
    "deletable": true,
    "editable": true,
    "slideshow": {
     "slide_type": "subslide"
    }
   },
   "source": [
    "3. ### 모델 학습\n",
    "    - fit\n",
    "    - 훈련데이터로 모델 학습 또는 특징 추출"
   ]
  },
  {
   "cell_type": "markdown",
   "metadata": {
    "deletable": true,
    "editable": true,
    "slideshow": {
     "slide_type": "subslide"
    }
   },
   "source": [
    "4. ### 예측\n",
    "    - predict / predict_prob (예측),  transform (변환)\n",
    "    - 테스트 데이터셋 예측 또는 변환"
   ]
  },
  {
   "cell_type": "markdown",
   "metadata": {
    "deletable": true,
    "editable": true,
    "slideshow": {
     "slide_type": "subslide"
    }
   },
   "source": [
    "5. ### 평가\n",
    "    - 모델 성능 평가\n",
    "    - 정확도, AUC, R2, MSE 등 목적에 맞는 적절한 평가 함수를 이용해 결과 확인"
   ]
  }
 ],
 "metadata": {
  "kernelspec": {
   "display_name": "Python 3",
   "language": "python",
   "name": "python3"
  },
  "language_info": {
   "codemirror_mode": {
    "name": "ipython",
    "version": 3
   },
   "file_extension": ".py",
   "mimetype": "text/x-python",
   "name": "python",
   "nbconvert_exporter": "python",
   "pygments_lexer": "ipython3",
   "version": "3.8.5"
  },
  "toc": {
   "base_numbering": 1,
   "nav_menu": {},
   "number_sections": false,
   "sideBar": false,
   "skip_h1_title": false,
   "title_cell": "Table of Contents",
   "title_sidebar": "Contents",
   "toc_cell": false,
   "toc_position": {},
   "toc_section_display": true,
   "toc_window_display": false
  },
  "varInspector": {
   "cols": {
    "lenName": 16,
    "lenType": 16,
    "lenVar": 40
   },
   "kernels_config": {
    "python": {
     "delete_cmd_postfix": "",
     "delete_cmd_prefix": "del ",
     "library": "var_list.py",
     "varRefreshCmd": "print(var_dic_list())"
    },
    "r": {
     "delete_cmd_postfix": ") ",
     "delete_cmd_prefix": "rm(",
     "library": "var_list.r",
     "varRefreshCmd": "cat(var_dic_list()) "
    }
   },
   "types_to_exclude": [
    "module",
    "function",
    "builtin_function_or_method",
    "instance",
    "_Feature"
   ],
   "window_display": false
  }
 },
 "nbformat": 4,
 "nbformat_minor": 2
}
